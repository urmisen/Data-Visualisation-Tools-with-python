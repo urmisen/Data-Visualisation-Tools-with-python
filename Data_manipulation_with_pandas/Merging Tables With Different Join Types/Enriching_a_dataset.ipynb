{
  "nbformat": 4,
  "nbformat_minor": 0,
  "metadata": {
    "colab": {
      "name": "Enriching_a_dataset.ipynb",
      "provenance": [],
      "collapsed_sections": []
    },
    "kernelspec": {
      "name": "python3",
      "display_name": "Python 3"
    }
  },
  "cells": [
    {
      "cell_type": "markdown",
      "metadata": {
        "id": "JoxRVUf-_kR-"
      },
      "source": [
        "# **Enriching a dataset**\n",
        "Setting how='left' with the .merge()method is a useful technique for enriching or enhancing a dataset with additional information from a different table. In this exercise, you will start off with a sample of movie data from the movie series Toy Story. Your goal is to enrich this data by adding the marketing tag line for each movie. You will compare the results of a left join versus an inner join.\n",
        "\n",
        "The toy_story DataFrame contains the Toy Story movies. The toy_story and taglines DataFrames have been loaded for you.\n",
        "\n",
        "# **Instructions**\n",
        "\n",
        "1. Merge toy_story and taglines on the id column with a left join, and save the result as toystory_tag."
      ]
    },
    {
      "cell_type": "code",
      "metadata": {
        "id": "5GlRWS9g36rw"
      },
      "source": [
        "# Merge the toy_story and taglines tables with a left join\n",
        "toystory_tag = toy_story.merge(taglines,on='id',how='left')\n",
        "\n",
        "# Print the rows and shape of toystory_tag\n",
        "print(toystory_tag)\n",
        "print(toystory_tag.shape)"
      ],
      "execution_count": null,
      "outputs": []
    },
    {
      "cell_type": "markdown",
      "metadata": {
        "id": "BQ6Ei3Nx39p7"
      },
      "source": [
        "2. With toy_story as the left table, merge to it taglines on the id column with an inner join, and save as toystory_tag."
      ]
    },
    {
      "cell_type": "code",
      "metadata": {
        "id": "hKo4qcLY4Alj"
      },
      "source": [
        "# Merge the toy_story and taglines tables with a inner join\n",
        "toystory_tag = toy_story.merge(taglines,on='id')\n",
        "\n",
        "# Print the rows and shape of toystory_tag\n",
        "print(toystory_tag)\n",
        "print(toystory_tag.shape)"
      ],
      "execution_count": null,
      "outputs": []
    }
  ]
}