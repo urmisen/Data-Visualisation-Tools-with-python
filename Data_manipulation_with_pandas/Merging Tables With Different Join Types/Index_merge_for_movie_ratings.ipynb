{
  "nbformat": 4,
  "nbformat_minor": 0,
  "metadata": {
    "colab": {
      "name": "Index_merge_for_movie_ratings.ipynb",
      "provenance": [],
      "collapsed_sections": []
    },
    "kernelspec": {
      "name": "python3",
      "display_name": "Python 3"
    }
  },
  "cells": [
    {
      "cell_type": "markdown",
      "metadata": {
        "id": "JoxRVUf-_kR-"
      },
      "source": [
        "# **Index merge for movie ratings**\n",
        "To practice merging on indexes, you will merge movies and a table called ratings that holds info about movie ratings. Make sure your merge returns all of the rows from the movies table and not all the rows of ratings table need to be included in the result.\n",
        "\n",
        "The movies and ratings tables have been loaded for you.\n",
        "\n",
        "\n",
        "# **Instructions**\n",
        "\n",
        "1. Merge movies and ratings on the index and save to a variable called movies_ratings, ensuring that all of the rows from the movies table are returned."
      ]
    },
    {
      "cell_type": "code",
      "metadata": {
        "id": "5GlRWS9g36rw"
      },
      "source": [
        "# Merge to the movies table the ratings table on the index\n",
        "movies_ratings = movies.merge(ratings,on='id')\n",
        "\n",
        "# Print the first few rows of movies_ratings\n",
        "print(movies_ratings.head())"
      ],
      "execution_count": null,
      "outputs": []
    }
  ]
}