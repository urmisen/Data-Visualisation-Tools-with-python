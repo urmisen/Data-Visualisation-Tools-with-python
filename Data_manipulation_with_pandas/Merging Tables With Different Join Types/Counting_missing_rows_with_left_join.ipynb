{
  "nbformat": 4,
  "nbformat_minor": 0,
  "metadata": {
    "colab": {
      "name": "Counting_missing_rows_with_left join.ipynb",
      "provenance": [],
      "collapsed_sections": []
    },
    "kernelspec": {
      "name": "python3",
      "display_name": "Python 3"
    }
  },
  "cells": [
    {
      "cell_type": "markdown",
      "metadata": {
        "id": "JoxRVUf-_kR-"
      },
      "source": [
        "# **Counting missing rows with left join**\n",
        "The Movie Database is supported by volunteers going out into the world, collecting data, and entering it into the database. This includes financial data, such as movie budget and revenue. If you wanted to know which movies are still missing data, you could use a left join to identify them. Practice using a left join by merging the movies table and the financials table.\n",
        "\n",
        "The movies and financials tables have been loaded for you.\n",
        "\n",
        "# **Instructions**\n",
        "\n",
        "1. Merge the movies table, as the left table, with the financials table using a left join, and save the result to movies_financials."
      ]
    },
    {
      "cell_type": "code",
      "metadata": {
        "id": "5GlRWS9g36rw"
      },
      "source": [
        "# Merge movies and financials with a left join\n",
        "movies_financials = movies.merge(financials,on='id',how='left')"
      ],
      "execution_count": null,
      "outputs": []
    },
    {
      "cell_type": "markdown",
      "metadata": {
        "id": "BQ6Ei3Nx39p7"
      },
      "source": [
        "2. Count the number of rows in movies_financials with a null value in the budget column."
      ]
    },
    {
      "cell_type": "code",
      "metadata": {
        "id": "hKo4qcLY4Alj"
      },
      "source": [
        "# Count the number of rows in the budget column that are missing\n",
        "number_of_missing_fin = movies_financials['budget'].isnull().sum()\n",
        "\n",
        "# Print the number of movies missing financials\n",
        "print(number_of_missing_fin)"
      ],
      "execution_count": null,
      "outputs": []
    }
  ]
}