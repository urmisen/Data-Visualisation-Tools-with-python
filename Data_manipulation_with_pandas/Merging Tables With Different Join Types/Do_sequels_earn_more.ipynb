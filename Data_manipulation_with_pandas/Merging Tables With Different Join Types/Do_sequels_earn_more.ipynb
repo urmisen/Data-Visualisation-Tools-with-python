{
  "nbformat": 4,
  "nbformat_minor": 0,
  "metadata": {
    "colab": {
      "name": "Do_sequels_earn_more.ipynb",
      "provenance": [],
      "collapsed_sections": []
    },
    "kernelspec": {
      "name": "python3",
      "display_name": "Python 3"
    }
  },
  "cells": [
    {
      "cell_type": "markdown",
      "metadata": {
        "id": "JoxRVUf-_kR-"
      },
      "source": [
        "# **Do sequels earn more?**\n",
        "It is time to put together many of the aspects that you have learned in this chapter. In this exercise, you'll find out which movie sequels earned the most compared to the original movie. To answer this question, you will merge a modified version of the sequels and financials tables where their index is the movie ID. You will need to choose a merge type that will return all of the rows from the sequels table and not all the rows of financials table need to be included in the result. From there, you will join the resulting table to itself so that you can compare the revenue values of the original movie to the sequel. Next, you will calculate the difference between the two revenues and sort the resulting dataset.\n",
        "\n",
        "The sequels and financials tables have been provided.\n",
        "\n",
        "# **Instructions**\n",
        "\n",
        "1. With the sequels table on the left, merge to it the financials table on index named id, ensuring that all the rows from the sequels are returned and some rows from the other table may not be returned, Save the results to sequels_fin."
      ]
    },
    {
      "cell_type": "code",
      "metadata": {
        "id": "5GlRWS9g36rw"
      },
      "source": [
        "# Merge sequels and financials on index id\n",
        "sequels_fin = sequels.merge(financials,on='id',how='left')"
      ],
      "execution_count": null,
      "outputs": []
    },
    {
      "cell_type": "markdown",
      "metadata": {
        "id": "TZWrV1cNi19g"
      },
      "source": [
        "2. Merge the sequels_fin table to itself with an inner join, where the left and right tables merge on sequel and id respectively with suffixes equal to ('_org','_seq'), saving to orig_seq."
      ]
    },
    {
      "cell_type": "code",
      "metadata": {
        "id": "ufpNtihijTi3"
      },
      "source": [
        "# Self merge with suffixes as inner join with left on sequel and right on id\n",
        "orig_seq = sequels_fin.merge(sequels_fin, how='inner', left_on='sequel', \n",
        "                             right_on='id', right_index=True,\n",
        "                             suffixes=('_org','_seq'))"
      ],
      "execution_count": null,
      "outputs": []
    },
    {
      "cell_type": "markdown",
      "metadata": {
        "id": "E9cVfmkljXSU"
      },
      "source": [
        "3. Select the title_org, title_seq, and diff columns of orig_seq and save this as titles_diff."
      ]
    },
    {
      "cell_type": "code",
      "metadata": {
        "id": "p4cH8Qmnke34"
      },
      "source": [
        "# Add calculation to subtract revenue_org from revenue_seq \n",
        "orig_seq['diff'] = orig_seq['revenue_seq'] - orig_seq['revenue_org']\n",
        "\n",
        "# Select the title_org, title_seq, and diff \n",
        "titles_diff = orig_seq[['title_org','title_seq','diff']]"
      ],
      "execution_count": null,
      "outputs": []
    },
    {
      "cell_type": "markdown",
      "metadata": {
        "id": "ez5Yumn8kjOk"
      },
      "source": [
        "4. Sort by titles_diff by diff in descending order and print the first few rows."
      ]
    },
    {
      "cell_type": "code",
      "metadata": {
        "id": "lu-0GYd8kkas"
      },
      "source": [
        "# Print the first rows of the sorted titles_diff\n",
        "print(titles_diff.sort_values('diff',ascending=False).head())"
      ],
      "execution_count": null,
      "outputs": []
    }
  ]
}