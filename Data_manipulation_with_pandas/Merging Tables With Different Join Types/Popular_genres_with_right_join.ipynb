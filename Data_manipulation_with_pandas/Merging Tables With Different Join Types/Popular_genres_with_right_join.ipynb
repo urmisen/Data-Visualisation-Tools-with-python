{
  "nbformat": 4,
  "nbformat_minor": 0,
  "metadata": {
    "colab": {
      "name": "Popular_genres_with_right_join.ipynb",
      "provenance": [],
      "collapsed_sections": []
    },
    "kernelspec": {
      "name": "python3",
      "display_name": "Python 3"
    }
  },
  "cells": [
    {
      "cell_type": "markdown",
      "metadata": {
        "id": "JoxRVUf-_kR-"
      },
      "source": [
        "# **Popular genres with right join**\n",
        "What are the genres of the most popular movies? To answer this question, you need to merge data from the movies and movie_to_genres tables. In a table called pop_movies, the top 10 most popular movies in the movies table have been selected. To ensure that you are analyzing all of the popular movies, merge it with the movie_to_genres table using a right join. To complete your analysis, count the number of different genres. Also, the two tables can be merged by the movie ID. However, in pop_movies that column is called id, and in movies_to_genres it's called movie_id.\n",
        "\n",
        "The pop_movies and movie_to_genres tables have been loaded for you.\n",
        "\n",
        "# **Instructions**\n",
        "\n",
        "1. Merge movie_to_genres and pop_movies using a right join. Save the results as genres_movies.\n",
        "2. Group genres_movies by genre and count the number of id values."
      ]
    },
    {
      "cell_type": "code",
      "metadata": {
        "id": "5GlRWS9g36rw"
      },
      "source": [
        "# Use right join to merge the movie_to_genres and pop_movies tables\n",
        "genres_movies = movie_to_genres.merge(pop_movies, how='right', \n",
        "                                      left_on='movie_id', \n",
        "                                      right_on='id')\n",
        "\n",
        "# Count the number of genres\n",
        "genre_count = genres_movies.groupby('genre').agg({'id':'count'})\n",
        "\n",
        "# Plot a bar chart of the genre_count\n",
        "genre_count.plot(kind='bar')\n",
        "plt.show()"
      ],
      "execution_count": null,
      "outputs": []
    }
  ]
}