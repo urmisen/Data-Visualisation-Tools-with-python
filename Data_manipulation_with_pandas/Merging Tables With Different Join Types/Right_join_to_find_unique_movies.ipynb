{
  "nbformat": 4,
  "nbformat_minor": 0,
  "metadata": {
    "colab": {
      "name": "Right_join_to_find_unique_movies.ipynb",
      "provenance": [],
      "collapsed_sections": []
    },
    "kernelspec": {
      "name": "python3",
      "display_name": "Python 3"
    }
  },
  "cells": [
    {
      "cell_type": "markdown",
      "metadata": {
        "id": "JoxRVUf-_kR-"
      },
      "source": [
        "# **Right join to find unique movies**\n",
        "Most of the recent big-budget science fiction movies can also be classified as action movies. You are given a table of science fiction movies called scifi_movies and another table of action movies called action_movies. Your goal is to find which movies are considered only science fiction movies. Once you have this table, you can merge the movies table in to see the movie names. Since this exercise is related to science fiction movies, use a right join as your superhero power to solve this problem.\n",
        "\n",
        "The movies, scifi_movies, and action_movies tables have been loaded for you.\n",
        "\n",
        "# **Instructions**\n",
        "\n",
        "1. Merge action_movies and scifi_movies tables with a right join on movie_id. Save the result as action_scifi."
      ]
    },
    {
      "cell_type": "code",
      "metadata": {
        "id": "5GlRWS9g36rw"
      },
      "source": [
        "# Merge action_movies to scifi_movies with right join\n",
        "action_scifi = action_movies.merge(scifi_movies, on='movie_id', how='right')"
      ],
      "execution_count": null,
      "outputs": []
    },
    {
      "cell_type": "markdown",
      "metadata": {
        "id": "BQ6Ei3Nx39p7"
      },
      "source": [
        "2. Update the merge to add suffixes, where '_act' and '_sci' are suffixes for the left and right tables, respectively."
      ]
    },
    {
      "cell_type": "code",
      "metadata": {
        "id": "hKo4qcLY4Alj"
      },
      "source": [
        "# Merge action_movies to scifi_movies with right join\n",
        "action_scifi = action_movies.merge(scifi_movies, on='movie_id', how='right',suffixes=('_act','_sci'))\n",
        "\n",
        "# Print the first few rows of action_scifi to see the structure\n",
        "print(action_scifi.head())"
      ],
      "execution_count": null,
      "outputs": []
    },
    {
      "cell_type": "markdown",
      "metadata": {
        "id": "ohtO--nDH3Yq"
      },
      "source": [
        "3. From action_scifi, subset only the rows where the genre_act column is null."
      ]
    },
    {
      "cell_type": "code",
      "metadata": {
        "id": "epQ-yyqcH0r3"
      },
      "source": [
        "# From action_scifi, select only the rows where the genre_act column is null\n",
        "scifi_only = action_scifi[action_scifi['genre_act'].isnull()]"
      ],
      "execution_count": null,
      "outputs": []
    },
    {
      "cell_type": "markdown",
      "metadata": {
        "id": "loEAiL2FII3q"
      },
      "source": [
        "4. Merge movies and scifi_only using the id column in the left table and the movie_id column in the right table with an inner join."
      ]
    },
    {
      "cell_type": "code",
      "metadata": {
        "id": "hSBJFKUwIhmZ"
      },
      "source": [
        "# Merge the movies and scifi_only tables with an inner join\n",
        "movies_and_scifi_only = movies.merge(scifi_only,left_on='id',right_on='movie_id')\n",
        "\n",
        "# Print the first few rows and shape of movies_and_scifi_only\n",
        "print(movies_and_scifi_only.head())\n",
        "print(movies_and_scifi_only.shape)"
      ],
      "execution_count": null,
      "outputs": []
    }
  ]
}