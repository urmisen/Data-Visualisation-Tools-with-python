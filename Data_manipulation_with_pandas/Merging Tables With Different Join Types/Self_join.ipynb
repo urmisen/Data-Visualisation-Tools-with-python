{
  "nbformat": 4,
  "nbformat_minor": 0,
  "metadata": {
    "colab": {
      "name": "Self_join.ipynb",
      "provenance": [],
      "collapsed_sections": []
    },
    "kernelspec": {
      "name": "python3",
      "display_name": "Python 3"
    }
  },
  "cells": [
    {
      "cell_type": "markdown",
      "metadata": {
        "id": "JoxRVUf-_kR-"
      },
      "source": [
        "# **Self join**\n",
        "Merging a table to itself can be useful when you want to compare values in a column to other values in the same column. In this exercise, you will practice this by creating a table that for each movie will list the movie director and a member of the crew on one row. You have been given a table called crews, which has columns id, job, and name. First, merge the table to itself using the movie ID. This merge will give you a larger table where for each movie, every job is matched against each other. Then select only those rows with a director in the left table, and avoid having a row where the director's job is listed in both the left and right tables. This filtering will remove job combinations that aren't with the director.\n",
        "\n",
        "The crews table has been loaded for you.\n",
        "\n",
        "\n",
        "# **Instructions**\n",
        "\n",
        "1. To a variable called crews_self_merged, merge the crews table to itself on the id column using an inner join, setting the suffixes to '_dir' and '_crew' for the left and right tables respectively."
      ]
    },
    {
      "cell_type": "code",
      "metadata": {
        "id": "5GlRWS9g36rw"
      },
      "source": [
        "# Merge the crews table to itself\n",
        "crews_self_merged = crews.merge(crews,on='id',suffixes=('_dir','_crew'))"
      ],
      "execution_count": null,
      "outputs": []
    },
    {
      "cell_type": "markdown",
      "metadata": {
        "id": "NMPfQ_YVb4mm"
      },
      "source": [
        "2. Create a Boolean index, named boolean_filter, that selects rows from the left table with the job of 'Director' and avoids rows with the job of 'Director' in the right table."
      ]
    },
    {
      "cell_type": "code",
      "metadata": {
        "id": "7b3-PXtLcV71"
      },
      "source": [
        "# Merge the crews table to itself\n",
        "crews_self_merged = crews.merge(crews, on='id', how='inner',\n",
        "                                suffixes=('_dir','_crew'))\n",
        "\n",
        "# Create a Boolean index to select the appropriate\n",
        "boolean_filter = ((crews_self_merged['job_dir'] == 'Director') & \n",
        "     (crews_self_merged['job_crew'] != 'Director'))\n",
        "direct_crews = crews_self_merged[boolean_filter]"
      ],
      "execution_count": null,
      "outputs": []
    },
    {
      "cell_type": "markdown",
      "metadata": {
        "id": "xHapAYRdcaT4"
      },
      "source": [
        "3. Use the .head() method to print the first few rows of direct_crews."
      ]
    },
    {
      "cell_type": "code",
      "metadata": {
        "id": "q-1D6Jo0cief"
      },
      "source": [
        "# Print the first few rows of direct_crews\n",
        "print(direct_crews.head())"
      ],
      "execution_count": null,
      "outputs": []
    }
  ]
}