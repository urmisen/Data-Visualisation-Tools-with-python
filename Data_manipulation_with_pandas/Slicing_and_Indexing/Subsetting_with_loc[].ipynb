{
  "nbformat": 4,
  "nbformat_minor": 0,
  "metadata": {
    "colab": {
      "name": "Subsetting_with_loc[].ipynb",
      "provenance": [],
      "collapsed_sections": []
    },
    "kernelspec": {
      "name": "python3",
      "display_name": "Python 3"
    }
  },
  "cells": [
    {
      "cell_type": "markdown",
      "metadata": {
        "id": "JoxRVUf-_kR-"
      },
      "source": [
        "# **Subsetting with .loc[]**\n",
        "The killer feature for indexes is .loc[]: a subsetting method that accepts index values. When you pass it a single argument, it will take a subset of rows.\n",
        "\n",
        "The code for subsetting using .loc[] can be easier to read than standard square bracket subsetting, which can make your code less burdensome to maintain.\n",
        "\n",
        "pandas is loaded as pd. temperatures and temperatures_ind are available; the latter is indexed by city.\n",
        "\n",
        "\n",
        "\n",
        "# **Instructions**\n",
        "\n",
        "1. Create a list called cities that contains \"Moscow\" and \"Saint Petersburg\".\n",
        "2. Use [] subsetting to filter temperatures for rows where the city column takes a value in the cities list.\n",
        "3. Use .loc[] subsetting to filter temperatures_ind for rows where the city is in the cities list.\n"
      ]
    },
    {
      "cell_type": "code",
      "metadata": {
        "id": "FhgOikMMA6b2"
      },
      "source": [
        "# Make a list of cities to subset on\n",
        "cities= [\"Moscow\", \"Saint Petersburg\"]\n",
        "\n",
        "# Subset temperatures using square brackets\n",
        "print(temperatures[temperatures[\"city\"].isin(cities)])\n",
        "\n",
        "# Subset temperatures_ind using .loc[]\n",
        "print(temperatures_ind.loc[cities])"
      ],
      "execution_count": null,
      "outputs": []
    }
  ]
}