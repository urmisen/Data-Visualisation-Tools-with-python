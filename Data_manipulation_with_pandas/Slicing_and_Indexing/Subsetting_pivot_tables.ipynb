{
  "nbformat": 4,
  "nbformat_minor": 0,
  "metadata": {
    "colab": {
      "name": "Subsetting_pivot_tables.ipynb",
      "provenance": [],
      "collapsed_sections": []
    },
    "kernelspec": {
      "name": "python3",
      "display_name": "Python 3"
    }
  },
  "cells": [
    {
      "cell_type": "markdown",
      "metadata": {
        "id": "JoxRVUf-_kR-"
      },
      "source": [
        "# **Subsetting pivot tables**\n",
        "A pivot table is just a DataFrame with sorted indexes, so the techniques you have learned already can be used to subset them. In particular, the .loc[] + slicing combination is often helpful.\n",
        "\n",
        "pandas is loaded as pd. temp_by_country_city_vs_year is available.\n",
        "\n",
        "# **Instructions**\n",
        "Use .loc[] on temp_by_country_city_vs_year to take subsets.\n",
        "\n",
        "* From Egypt to India.\n",
        "* From Egypt, Cairo to India, Delhi.\n",
        "* From Egypt, Cairo to India, Delhi, and 2005 to 2010.\n",
        "\n"
      ]
    },
    {
      "cell_type": "code",
      "metadata": {
        "id": "FhgOikMMA6b2"
      },
      "source": [
        "# Subset for Egypt to India\n",
        "print(temp_by_country_city_vs_year.loc[\"Egypt\":\"India\"])\n",
        "\n",
        "# Subset for Egypt, Cairo to India, Delhi\n",
        "print(temp_by_country_city_vs_year.loc[(\"Egypt\",\"Cairo\"):(\"India\",\"Delhi\")])\n",
        "\n",
        "# Subset in both directions at once\n",
        "print(temp_by_country_city_vs_year.loc[(\"Egypt\",\"Cairo\"):(\"India\",\"Delhi\"),\"2005\":\"2010\"])"
      ],
      "execution_count": null,
      "outputs": []
    }
  ]
}