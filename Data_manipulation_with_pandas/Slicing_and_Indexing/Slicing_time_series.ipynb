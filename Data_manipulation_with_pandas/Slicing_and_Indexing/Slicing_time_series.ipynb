{
  "nbformat": 4,
  "nbformat_minor": 0,
  "metadata": {
    "colab": {
      "name": "Slicing_time_series.ipynb",
      "provenance": [],
      "collapsed_sections": []
    },
    "kernelspec": {
      "name": "python3",
      "display_name": "Python 3"
    }
  },
  "cells": [
    {
      "cell_type": "markdown",
      "metadata": {
        "id": "JoxRVUf-_kR-"
      },
      "source": [
        "# **Slicing time series**\n",
        "Slicing is particularly useful for time series since it's a common thing to want to filter for data within a date range. Add the date column to the index, then use .loc[] to perform the subsetting. The important thing to remember is to keep your dates in ISO 8601 format, that is, yyyy-mm-dd.\n",
        "\n",
        "Recall from Chapter 1 that you can combine multiple Boolean conditions using logical operators (such as &). To do so in one line of code, you'll need to add parentheses () around each condition.\n",
        "\n",
        "pandas is loaded as pd and temperatures, with no index, is available.\n",
        "\n",
        "# **Instructions**\n",
        "\n",
        "1.Use Boolean conditions (not .isin() or .loc[]) to subset for rows in 2010 and 2011, and print the results.\n",
        "* Note that because the date isn't set as an index, a condition that contains only a year, such as df[\"date\"] == \"2009\", will check if the date is equal to the first day of the first month of the year (e.g. 2009-01-01), rather than checking whether the date occurs within the given year. We recommend writing out the full date when using Boolean conditions (e.g., 2009-12-31).\n",
        "2. Set the index to the date column.\n",
        "3. Use .loc[] to subset for rows in 2010 and 2011.\n",
        "4. Use .loc[] to subset for rows from Aug 2010 to Feb 2011."
      ]
    },
    {
      "cell_type": "code",
      "metadata": {
        "id": "FhgOikMMA6b2"
      },
      "source": [
        "# Use Boolean conditions to subset temperatures for rows in 2010 and 2011\n",
        "temperatures_bool = temperatures[(temperatures.date >= \"2010-01-01\") & (temperatures.date <= \"2011-12-31\")]\n",
        "print(temperatures_bool)\n",
        "\n",
        "# Set date as an index and sort the index\n",
        "temperatures_ind = temperatures.set_index(\"date\").sort_index()\n",
        "\n",
        "# Use .loc[] to subset temperatures_ind for rows in 2010 and 2011\n",
        "print(temperatures_ind.loc[\"2010\":\"2011\"])\n",
        "\n",
        "# Use .loc[] to subset temperatures_ind for rows from Aug 2010 to Feb 2011\n",
        "print(temperatures_ind.loc[\"2010-08\":\"2011-02\"])"
      ],
      "execution_count": null,
      "outputs": []
    }
  ]
}