{
  "nbformat": 4,
  "nbformat_minor": 0,
  "metadata": {
    "colab": {
      "name": "Subsetting_by_row/column_number.ipynb",
      "provenance": [],
      "collapsed_sections": []
    },
    "kernelspec": {
      "name": "python3",
      "display_name": "Python 3"
    }
  },
  "cells": [
    {
      "cell_type": "markdown",
      "metadata": {
        "id": "JoxRVUf-_kR-"
      },
      "source": [
        "# **Subsetting by row/column number**\n",
        "The most common ways to subset rows are the ways we've previously discussed: using a Boolean condition or by index labels. However, it is also occasionally useful to pass row numbers.\n",
        "\n",
        "This is done using .iloc[], and like .loc[], it can take two arguments to let you subset by rows and columns.\n",
        "\n",
        "pandas is loaded as pd. temperatures (without an index) is available.\n",
        "\n",
        "# **Instructions**\n",
        "\n",
        "Use .iloc[] on temperatures to take subsets.\n",
        "\n",
        "1. Get the 23rd row, 2nd column (index positions 22 and 1).\n",
        "2. Get the first 5 rows (index positions 0 to 5).\n",
        "3. Get all rows, columns 3 and 4 (index positions 2 to 4).\n",
        "4. Get the first 5 rows, columns 3 and 4."
      ]
    },
    {
      "cell_type": "code",
      "metadata": {
        "id": "FhgOikMMA6b2"
      },
      "source": [
        "# Get 23rd row, 2nd column (index 22, 1)\n",
        "print(temperatures.iloc[22,1])\n",
        "\n",
        "# Use slicing to get the first 5 rows\n",
        "print(temperatures.iloc[:5])\n",
        "\n",
        "# Use slicing to get columns 3 to 4\n",
        "print(temperatures.iloc[:,2:4])\n",
        "\n",
        "# Use slicing in both directions at once\n",
        "print(temperatures.iloc[:5,2:4])"
      ],
      "execution_count": null,
      "outputs": []
    }
  ]
}