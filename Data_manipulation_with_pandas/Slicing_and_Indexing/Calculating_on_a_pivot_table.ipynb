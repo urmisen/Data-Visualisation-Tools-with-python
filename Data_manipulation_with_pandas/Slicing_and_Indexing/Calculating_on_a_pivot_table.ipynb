{
  "nbformat": 4,
  "nbformat_minor": 0,
  "metadata": {
    "colab": {
      "name": "Calculating_on_a_pivot_table.ipynb",
      "provenance": [],
      "collapsed_sections": []
    },
    "kernelspec": {
      "name": "python3",
      "display_name": "Python 3"
    }
  },
  "cells": [
    {
      "cell_type": "markdown",
      "metadata": {
        "id": "JoxRVUf-_kR-"
      },
      "source": [
        "# **Calculating on a pivot table**\n",
        "Pivot tables are filled with summary statistics, but they are only a first step to finding something insightful. Often you'll need to perform further calculations on them. A common thing to do is to find the rows or columns where the highest or lowest value occurs.\n",
        "\n",
        "Recall from Chapter 1 that you can easily subset a Series or DataFrame to find rows of interest using a logical condition inside of square brackets. For example: series[series > value].\n",
        "\n",
        "pandas is loaded as pd and the DataFrame temp_by_country_city_vs_year is available.\n",
        "\n",
        "# **Instructions**\n",
        "\n",
        "1. Calculate the mean temperature for each year, assigning to mean_temp_by_year.\n",
        "2. Filter mean_temp_by_year for the year that had the highest mean temperature.\n",
        "3. Calculate the mean temperature for each city (across columns), assigning to mean_temp_by_city.\n",
        "4. Filter mean_temp_by_city for the city that had the lowest mean temperature.\n",
        "\n"
      ]
    },
    {
      "cell_type": "code",
      "metadata": {
        "id": "FhgOikMMA6b2"
      },
      "source": [
        "# Get the worldwide mean temp by year\n",
        "mean_temp_by_year = temp_by_country_city_vs_year.mean()\n",
        "\n",
        "# Filter for the year that had the highest mean temp\n",
        "print(mean_temp_by_year[mean_temp_by_year == mean_temp_by_year.max()])\n",
        "\n",
        "# Get the mean temp by city\n",
        "mean_temp_by_city = temp_by_country_city_vs_year.mean(axis=\"columns\")\n",
        "\n",
        "# Filter for the city that had the lowest mean temp\n",
        "print(mean_temp_by_city[mean_temp_by_city == mean_temp_by_city.min()])"
      ],
      "execution_count": null,
      "outputs": []
    }
  ]
}