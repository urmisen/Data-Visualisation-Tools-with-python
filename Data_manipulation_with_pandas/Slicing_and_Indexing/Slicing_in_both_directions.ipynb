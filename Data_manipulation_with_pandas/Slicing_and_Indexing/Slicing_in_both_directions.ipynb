{
  "nbformat": 4,
  "nbformat_minor": 0,
  "metadata": {
    "colab": {
      "name": "Slicing_in_both_directions.ipynb",
      "provenance": [],
      "collapsed_sections": []
    },
    "kernelspec": {
      "name": "python3",
      "display_name": "Python 3"
    }
  },
  "cells": [
    {
      "cell_type": "markdown",
      "metadata": {
        "id": "JoxRVUf-_kR-"
      },
      "source": [
        "# **Slicing in both directions**\n",
        "You've seen slicing DataFrames by rows and by columns, but since DataFrames are two-dimensional objects, it is often natural to slice both dimensions at once. That is, by passing two arguments to .loc[], you can subset by rows and columns in one go.\n",
        "\n",
        "pandas is loaded as pd. temperatures_srt is indexed by country and city, has a sorted index, and is available.\n",
        "\n",
        "# **Instructions**\n",
        "\n",
        "1. Use .loc[] slicing to subset rows from India, Hyderabad to Iraq, Baghdad.\n",
        "2. Use .loc[] slicing to subset columns from date to avg_temp_c.\n",
        "3. Slice in both directions at once from Hyderabad to Baghdad, and date to avg_temp_c."
      ]
    },
    {
      "cell_type": "code",
      "metadata": {
        "id": "FhgOikMMA6b2"
      },
      "source": [
        "# Subset rows from India, Hyderabad to Iraq, Baghdad\n",
        "print(temperatures_srt.loc[(\"India\",\"Hyderabad\"):(\"Iraq\",\"Baghdad\")])\n",
        "\n",
        "# Subset columns from date to avg_temp_c\n",
        "print(temperatures_srt.loc[ : , \"date\" : \"avg_temp_c\"])\n",
        "\n",
        "# Subset in both directions at once\n",
        "print(temperatures_srt.loc[(\"India\", \"Hyderabad\") : (\"Iraq\", \"Baghdad\"), \"date\" : \"avg_temp_c\"])"
      ],
      "execution_count": null,
      "outputs": []
    }
  ]
}