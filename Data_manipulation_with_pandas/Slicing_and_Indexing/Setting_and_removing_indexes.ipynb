{
  "nbformat": 4,
  "nbformat_minor": 0,
  "metadata": {
    "colab": {
      "name": "Setting_and_removing_indexes.ipynb",
      "provenance": [],
      "collapsed_sections": []
    },
    "kernelspec": {
      "name": "python3",
      "display_name": "Python 3"
    }
  },
  "cells": [
    {
      "cell_type": "markdown",
      "metadata": {
        "id": "JoxRVUf-_kR-"
      },
      "source": [
        "# **Setting and removing indexes**\n",
        "pandas allows you to designate columns as an index. This enables cleaner code when taking subsets (as well as providing more efficient lookup under some circumstances).\n",
        "\n",
        "In this chapter, you'll be exploring temperatures, a DataFrame of average temperatures in cities around the world. pandas is loaded as pd.\n",
        "\n",
        "\n",
        "\n",
        "# **Instructions**\n",
        "\n",
        "1. Look at temperatures.\n",
        "2. Set the index of temperatures to \"city\", assigning to temperatures_ind.\n",
        "3. Look at temperatures_ind. How is it different from temperatures?\n",
        "4. Reset the index of temperatures_ind, keeping its contents.\n",
        "5. Reset the index of temperatures_ind, dropping its contents.\n"
      ]
    },
    {
      "cell_type": "code",
      "metadata": {
        "id": "FhgOikMMA6b2"
      },
      "source": [
        "# Look at temperatures\n",
        "print(temperatures)\n",
        "\n",
        "# Index temperatures by city\n",
        "temperatures_ind = temperatures.set_index(\"city\")\n",
        "\n",
        "# Look at temperatures_ind\n",
        "print(temperatures_ind)\n",
        "\n",
        "# Reset the index, keeping its contents\n",
        "print(print(temperatures_ind.reset_index()))\n",
        "\n",
        "# Reset the index, dropping its contents\n",
        "print(print(temperatures_ind.reset_index(drop=True)))"
      ],
      "execution_count": null,
      "outputs": []
    }
  ]
}