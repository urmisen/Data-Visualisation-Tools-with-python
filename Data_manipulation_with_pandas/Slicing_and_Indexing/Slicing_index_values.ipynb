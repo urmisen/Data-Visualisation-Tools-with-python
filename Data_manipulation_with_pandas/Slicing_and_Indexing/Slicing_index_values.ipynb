{
  "nbformat": 4,
  "nbformat_minor": 0,
  "metadata": {
    "colab": {
      "name": "Slicing_index_values.ipynb",
      "provenance": [],
      "collapsed_sections": []
    },
    "kernelspec": {
      "name": "python3",
      "display_name": "Python 3"
    }
  },
  "cells": [
    {
      "cell_type": "markdown",
      "metadata": {
        "id": "JoxRVUf-_kR-"
      },
      "source": [
        "# **Slicing index values**\n",
        "Slicing lets you select consecutive elements of an object using first:last syntax. DataFrames can be sliced by index values or by row/column number; we'll start with the first case. This involves slicing inside the .loc[] method.\n",
        "\n",
        "Compared to slicing lists, there are a few things to remember.\n",
        "\n",
        "* You can only slice an index if the index is sorted (using .sort_index()).\n",
        "* To slice at the outer level, first and last can be strings.\n",
        "* To slice at inner levels, first and last should be tuples.\n",
        "* If you pass a single slice to .loc[], it will slice the rows.\n",
        "pandas is loaded as pd. temperatures_ind has country and city in the index, and is available.\n",
        "\n",
        "# **Instructions**\n",
        "\n",
        "1. Sort the index of temperatures_ind.\n",
        "2. Use slicing with .loc[] to get these subsets:\n",
        "* from Pakistan to Russia.\n",
        "* from Lahore to Moscow. (This will return nonsense.)\n",
        "* from Pakistan, Lahore to Russia, Moscow."
      ]
    },
    {
      "cell_type": "code",
      "metadata": {
        "id": "FhgOikMMA6b2"
      },
      "source": [
        "# Sort the index of temperatures_ind\n",
        "temperatures_srt = temperatures_ind.sort_index()\n",
        "\n",
        "# Subset rows from Pakistan to Russia\n",
        "print(temperatures_srt.loc[\"Pakistan\" : \"Russia\"])\n",
        "\n",
        "# Try to subset rows from Lahore to Moscow\n",
        "print(temperatures_srt.loc[\"Lahore\" : \"Moscow\"])\n",
        "\n",
        "# Subset rows from Pakistan, Lahore to Russia, Moscow\n",
        "print(temperatures_srt.loc[(\"Pakistan\",\"Lahore\") : (\"Russia\",\"Moscow\")])"
      ],
      "execution_count": null,
      "outputs": []
    }
  ]
}