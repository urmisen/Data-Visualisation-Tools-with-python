{
  "nbformat": 4,
  "nbformat_minor": 0,
  "metadata": {
    "colab": {
      "name": "Concatenate_and_merge_to_find_common_songs.ipynb",
      "provenance": [],
      "collapsed_sections": []
    },
    "kernelspec": {
      "name": "python3",
      "display_name": "Python 3"
    }
  },
  "cells": [
    {
      "cell_type": "markdown",
      "metadata": {
        "id": "JoxRVUf-_kR-"
      },
      "source": [
        "# **Concatenate and merge to find common songs**\n",
        "The senior leadership of the streaming service is requesting your help again. You are given the historical files for a popular playlist in the classical music genre in 2018 and 2019. Additionally, you are given a similar set of files for the most popular pop music genre playlist on the streaming service in 2018 and 2019. Your goal is to concatenate the respective files to make a large classical playlist table and overall popular music table. Then filter the classical music table using a semi-join to return only the most popular classical music tracks.\n",
        "\n",
        "The tables classic_18, classic_19, and pop_18, pop_19 have been loaded for you. Additionally, pandas has been loaded as pd.\n",
        "\n",
        "# **Instructions**\n",
        "\n",
        "1. Concatenate the classic_18 and classic_19 tables vertically where the index goes from 0 to n-1, and save to classic_18_19.\n",
        "2. Concatenate the pop_18 and pop_19 tables vertically where the index goes from 0 to n-1, and save to pop_18_19."
      ]
    },
    {
      "cell_type": "code",
      "metadata": {
        "id": "5GlRWS9g36rw"
      },
      "source": [
        "# Concatenate the classic tables vertically\n",
        "classic_18_19 = pd.concat([classic_18,classic_19],ignore_index=True)\n",
        "\n",
        "# Concatenate the pop tables vertically\n",
        "pop_18_19 = pd.concat([pop_18,pop_19],ignore_index=True)"
      ],
      "execution_count": null,
      "outputs": []
    },
    {
      "cell_type": "markdown",
      "metadata": {
        "id": "kaeSZRlxRFIS"
      },
      "source": [
        "3. With classic_18_19 on the left, merge it with pop_18_19 on tid using an inner join.\n",
        "4. Use .isin() to filter classic_18_19 where tid is in classic_pop."
      ]
    },
    {
      "cell_type": "code",
      "metadata": {
        "id": "XZ_wQLYNRxCd"
      },
      "source": [
        "# Merge classic_18_19 with pop_18_19\n",
        "classic_pop = classic_18_19.merge(pop_18_19,on='tid')\n",
        "\n",
        "# Using .isin(), filter classic_18_19 rows where tid is in classic_pop\n",
        "popular_classic = classic_18_19[classic_18_19['tid'].isin(classic_pop['tid'])]\n",
        "\n",
        "# Print popular chart\n",
        "print(popular_classic)"
      ],
      "execution_count": null,
      "outputs": []
    }
  ]
}