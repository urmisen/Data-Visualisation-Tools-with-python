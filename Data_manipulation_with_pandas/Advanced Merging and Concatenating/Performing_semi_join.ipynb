{
  "nbformat": 4,
  "nbformat_minor": 0,
  "metadata": {
    "colab": {
      "name": "Performing_semi_join.ipynb",
      "provenance": [],
      "collapsed_sections": []
    },
    "kernelspec": {
      "name": "python3",
      "display_name": "Python 3"
    }
  },
  "cells": [
    {
      "cell_type": "markdown",
      "metadata": {
        "id": "JoxRVUf-_kR-"
      },
      "source": [
        "# **Performing a semi-join**\n",
        "Some of the tracks that have generated the most significant amount of revenue are from TV-shows or are other non-musical audio. You have been given a table of invoices that include top revenue-generating items. Additionally, you have a table of non-musical tracks from the streaming service. In this exercise, you'll use a semi-join to find the top revenue-generating non-musical tracks..\n",
        "\n",
        "The tables non_mus_tcks, top_invoices, and genres have been loaded for you.\n",
        "\n",
        "# **Instructions**\n",
        "\n",
        "1. Merge non_mus_tcks and top_invoices on tid using an inner join. Save the result as tracks_invoices.\n",
        "2. Use .isin() to subset the rows of non_mus_tck where tid is in the tid column of tracks_invoices. Save the result as top_tracks.\n",
        "3. Group top_tracks by gid and count the tid rows. Save the result to cnt_by_gid.\n",
        "4. Merge cnt_by_gid with the genres table on gid and print the result."
      ]
    },
    {
      "cell_type": "code",
      "metadata": {
        "id": "5GlRWS9g36rw"
      },
      "source": [
        "# Merge the non_mus_tck and top_invoices tables on tid\n",
        "tracks_invoices = non_mus_tcks.merge(top_invoices,on='tid')\n",
        "\n",
        "# Use .isin() to subset non_mus_tcks to rows with tid in tracks_invoices\n",
        "top_tracks = non_mus_tcks[non_mus_tcks['tid'].isin(tracks_invoices['tid'])]\n",
        "\n",
        "# Group the top_tracks by gid and count the tid rows\n",
        "cnt_by_gid = top_tracks.groupby(['gid'], as_index=False).agg({'tid':'count'})\n",
        "\n",
        "# Merge the genres table to cnt_by_gid on gid and print\n",
        "print(cnt_by_gid.merge(genres,on='gid'))"
      ],
      "execution_count": null,
      "outputs": []
    }
  ]
}