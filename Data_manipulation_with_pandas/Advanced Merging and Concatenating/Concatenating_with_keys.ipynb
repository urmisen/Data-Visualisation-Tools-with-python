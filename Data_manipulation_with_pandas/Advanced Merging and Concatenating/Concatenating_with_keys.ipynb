{
  "nbformat": 4,
  "nbformat_minor": 0,
  "metadata": {
    "colab": {
      "name": "Concatenating_with_keys.ipynb",
      "provenance": [],
      "collapsed_sections": []
    },
    "kernelspec": {
      "name": "python3",
      "display_name": "Python 3"
    }
  },
  "cells": [
    {
      "cell_type": "markdown",
      "metadata": {
        "id": "JoxRVUf-_kR-"
      },
      "source": [
        "# **Concatenating with keys**\n",
        "The leadership of the music streaming company has come to you and asked you for assistance in analyzing sales for a recent business quarter. They would like to know which month in the quarter saw the highest average invoice total. You have been given three tables with invoice data named inv_jul, inv_aug, and inv_sep. Concatenate these tables into one to create a graph of the average monthly invoice total.\n",
        "\n",
        "# **Instructions**\n",
        "\n",
        "1. Concatenate the three tables together vertically in order with the oldest month first, adding '7Jul', '8Aug', and '9Sep' as keys for their respective months, and save to variable avg_inv_by_month.\n",
        "2. Use the .agg() method to find the average of the total column from the grouped invoices.\n",
        "3. Create a bar chart of avg_inv_by_month."
      ]
    },
    {
      "cell_type": "code",
      "metadata": {
        "id": "5GlRWS9g36rw"
      },
      "source": [
        "# Concatenate the tables and add keys\n",
        "inv_jul_thr_sep = pd.concat([inv_jul,inv_aug,inv_sep], \n",
        "                            keys=['7Jul','8Aug','9Sep'])\n",
        "\n",
        "# Group the invoices by the index keys and find avg of the total column\n",
        "avg_inv_by_month = inv_jul_thr_sep.groupby(level=0).agg({'total':'mean'})\n",
        "\n",
        "# Bar plot of avg_inv_by_month\n",
        "avg_inv_by_month.plot(kind='bar')\n",
        "plt.show()"
      ],
      "execution_count": null,
      "outputs": []
    }
  ]
}