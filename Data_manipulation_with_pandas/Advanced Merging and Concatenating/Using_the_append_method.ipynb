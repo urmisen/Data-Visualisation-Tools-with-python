{
  "nbformat": 4,
  "nbformat_minor": 0,
  "metadata": {
    "colab": {
      "name": "Using_the_append_method.ipynb",
      "provenance": [],
      "collapsed_sections": []
    },
    "kernelspec": {
      "name": "python3",
      "display_name": "Python 3"
    }
  },
  "cells": [
    {
      "cell_type": "markdown",
      "metadata": {
        "id": "JoxRVUf-_kR-"
      },
      "source": [
        "# **Using the append method**\n",
        "The .concat() method is excellent when you need a lot of control over how concatenation is performed. However, if you do not need as much control, then the .append() method is another option. You'll try this method out by appending the track lists together from different Metallica albums. From there, you will merge it with the invoice_items table to determine which track sold the most.\n",
        "\n",
        "The tables tracks_master, tracks_ride, tracks_st, and invoice_items have loaded for you.\n",
        "\n",
        "# **Instructions**\n",
        "\n",
        "1. Use the .append() method to combine (in this order)tracks_ride, tracks_master, and tracks_st together vertically, and save to metallica_tracks.\n",
        "2. Merge metallica_tracks and invoice_items on tid with an inner join, and save to tracks_invoices.\n",
        "3. For each tid and name in tracks_invoices, sum the quantity sold column, and save as tracks_sold.\n",
        "4. Sort tracks_sold in descending order by the quantity column, and print the table."
      ]
    },
    {
      "cell_type": "code",
      "metadata": {
        "id": "5GlRWS9g36rw"
      },
      "source": [
        "# Use the .append() method to combine the tracks tables\n",
        "metallica_tracks = tracks_ride.append([tracks_master,tracks_st], sort=False)\n",
        "\n",
        "# Merge metallica_tracks and invoice_items\n",
        "tracks_invoices = metallica_tracks.merge(invoice_items,on='tid')\n",
        "\n",
        "# For each tid and name sum the quantity sold\n",
        "tracks_sold = tracks_invoices.groupby(['tid','name']).agg({'quantity':sum})\n",
        "\n",
        "# Sort in decending order by quantity and print the results\n",
        "print(tracks_sold.sort_values('quantity',ascending=False))"
      ],
      "execution_count": null,
      "outputs": []
    }
  ]
}