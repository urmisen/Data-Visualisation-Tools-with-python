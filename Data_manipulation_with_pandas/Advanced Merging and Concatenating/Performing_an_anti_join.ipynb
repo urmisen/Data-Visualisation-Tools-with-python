{
  "nbformat": 4,
  "nbformat_minor": 0,
  "metadata": {
    "colab": {
      "name": "Performing_an_anti_join.ipynb",
      "provenance": [],
      "collapsed_sections": []
    },
    "kernelspec": {
      "name": "python3",
      "display_name": "Python 3"
    }
  },
  "cells": [
    {
      "cell_type": "markdown",
      "metadata": {
        "id": "JoxRVUf-_kR-"
      },
      "source": [
        "# **Performing an anti-join**\n",
        "In our music streaming company dataset, each customer is assigned an employee representative to assist them. In this exercise, filter the employee table by a table of top customers, returning only those employees who are not assigned to a customer. The results should resemble the results of an anti-join. The company's leadership will assign these employees additional training so that they can work with high valued customers.\n",
        "\n",
        "The top_cust and employees tables have been provided for you.\n",
        "\n",
        "# **Instructions**\n",
        "\n",
        "1. Merge employees and top_cust with a left join, setting indicator argument to True. Save the result to empl_cust."
      ]
    },
    {
      "cell_type": "code",
      "metadata": {
        "id": "5GlRWS9g36rw"
      },
      "source": [
        "# Merge employees and top_cust\n",
        "empl_cust = employees.merge(top_cust, on='srid', \n",
        "                            how='left', indicator=True)"
      ],
      "execution_count": null,
      "outputs": []
    },
    {
      "cell_type": "markdown",
      "metadata": {
        "id": "TZWrV1cNi19g"
      },
      "source": [
        "2. Select the srid column of empl_cust and the rows where _merge is 'left_only'. Save the result to srid_list."
      ]
    },
    {
      "cell_type": "code",
      "metadata": {
        "id": "ufpNtihijTi3"
      },
      "source": [
        "# Select the srid column where _merge is left_only\n",
        "srid_list = empl_cust.loc[empl_cust['_merge']== 'left_only', 'srid']"
      ],
      "execution_count": null,
      "outputs": []
    },
    {
      "cell_type": "markdown",
      "metadata": {
        "id": "E9cVfmkljXSU"
      },
      "source": [
        "3. Subset the employees table and select those rows where the srid is in the variable srid_list and print the results."
      ]
    },
    {
      "cell_type": "code",
      "metadata": {
        "id": "p4cH8Qmnke34"
      },
      "source": [
        "# Get employees not working with top customers\n",
        "print(employees[employees['srid'].isin(srid_list)])"
      ],
      "execution_count": null,
      "outputs": []
    }
  ]
}