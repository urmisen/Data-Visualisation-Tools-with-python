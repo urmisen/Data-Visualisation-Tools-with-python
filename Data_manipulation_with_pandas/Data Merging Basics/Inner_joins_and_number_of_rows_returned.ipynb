{
  "nbformat": 4,
  "nbformat_minor": 0,
  "metadata": {
    "colab": {
      "name": "Inner_joins_and_number_of_rows_returned.ipynb",
      "provenance": [],
      "collapsed_sections": []
    },
    "kernelspec": {
      "name": "python3",
      "display_name": "Python 3"
    }
  },
  "cells": [
    {
      "cell_type": "markdown",
      "metadata": {
        "id": "JoxRVUf-_kR-"
      },
      "source": [
        "# **Inner joins and number of rows returned**\n",
        "All of the merges you have studied to this point are called inner joins. It is necessary to understand that inner joins only return the rows with matching values in both tables. You will explore this further by reviewing the merge shown in the video lesson between the wards and census tables. You will alter the tables and examine how this affects the merge between them. The wards and census tables have been loaded for you.\n",
        "\n",
        "For this exercise, it is important to know that both tables start with 50 rows, and are reset back to their original values after each Step.\n",
        "\n",
        "\n",
        "# **Instructions**\n",
        "\n",
        "1. Merge wards and census on the ward column and save the result to wards_census\n",
        "\n",
        "3. Print the value_counts to find the most popular fuel_type\n",
        "print(taxi_own_veh['fuel_type'].value_counts())"
      ]
    },
    {
      "cell_type": "code",
      "metadata": {
        "id": "FhgOikMMA6b2"
      },
      "source": [
        "# Merge the wards and census tables on the ward column\n",
        "wards_census = wards.merge(census,on='ward')\n",
        "\n",
        "# Print the shape of wards_census\n",
        "print(wards_census.shape)"
      ],
      "execution_count": null,
      "outputs": []
    },
    {
      "cell_type": "markdown",
      "metadata": {
        "id": "wqozttR94l0Y"
      },
      "source": [
        "2. In the wards table, within the ward column, change the value of '1' to '61'."
      ]
    },
    {
      "cell_type": "code",
      "metadata": {
        "id": "5QgZuGvG4k9V"
      },
      "source": [
        "# In the ward column change '1' to '61'\n",
        "wards.loc[wards['ward'] == '1','ward'] = '61'\n",
        "\n",
        "# Merge the wards and census tables on the ward column\n",
        "wards_census = wards.merge(census, on='ward')\n",
        "\n",
        "# Print the shape of wards_census\n",
        "print(wards_census.shape)"
      ],
      "execution_count": null,
      "outputs": []
    },
    {
      "cell_type": "markdown",
      "metadata": {
        "id": "8c-OFjLR45UC"
      },
      "source": [
        "3. In the census table (not ward), within the ward column, change the value of '1' to None."
      ]
    },
    {
      "cell_type": "code",
      "metadata": {
        "id": "82oTdnME49O3"
      },
      "source": [
        "# Change '1' to None in `ward` col\n",
        "census.loc[census['ward'] == '1', 'ward'] = None\n",
        "\n",
        "# Merge the wards and census tables on the ward column\n",
        "wards_census = wards.merge(census, on='ward')\n",
        "\n",
        "# Print the shape of wards_census\n",
        "print(wards_census.shape)"
      ],
      "execution_count": null,
      "outputs": []
    }
  ]
}