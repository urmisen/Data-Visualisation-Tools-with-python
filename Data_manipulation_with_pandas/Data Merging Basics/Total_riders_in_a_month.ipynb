{
  "nbformat": 4,
  "nbformat_minor": 0,
  "metadata": {
    "colab": {
      "name": "Total_riders_in_a_month.ipynb",
      "provenance": [],
      "collapsed_sections": []
    },
    "kernelspec": {
      "name": "python3",
      "display_name": "Python 3"
    }
  },
  "cells": [
    {
      "cell_type": "markdown",
      "metadata": {
        "id": "JoxRVUf-_kR-"
      },
      "source": [
        "# **Total riders in a month**\n",
        "Your goal is to find the total number of rides provided to passengers passing through the Wilson station (station_name == 'Wilson') when riding Chicago's public transportation system on weekdays (day_type == 'Weekday') in July (month == 7). Luckily, Chicago provides this detailed data, but it is in three different tables. You will work on merging these tables together to answer the question. This data is different from the business related data you have seen so far, but all the information you need to answer the question is below.\n",
        "\n",
        "The cal, ridership, and stations DataFrames have been loaded for you. The relationship between the tables can be seen in the diagram below.\n",
        "\n",
        "\n",
        "# **Instructions**\n",
        "\n",
        "1. Merge the ridership and cal tables together, starting with the ridership table on the left and save the result to the variable ridership_cal. If you code takes too long to run, your merge conditions might be incorrect."
      ]
    },
    {
      "cell_type": "code",
      "metadata": {
        "id": "5GlRWS9g36rw"
      },
      "source": [
        "# Merge the ridership and cal tables\n",
        "ridership_cal = ridership.merge(cal,on=[\"year\",\"month\",\"day\"])"
      ],
      "execution_count": null,
      "outputs": []
    },
    {
      "cell_type": "markdown",
      "metadata": {
        "id": "BQ6Ei3Nx39p7"
      },
      "source": [
        "2. Extend the previous merge to three tables by also merging the stations table."
      ]
    },
    {
      "cell_type": "code",
      "metadata": {
        "id": "hKo4qcLY4Alj"
      },
      "source": [
        "# Merge the ridership, cal, and stations tables\n",
        "ridership_cal_stations = ridership.merge(cal, on=['year','month','day']) \\\n",
        "            \t\t\t\t.merge(stations,on=\"station_id\")"
      ],
      "execution_count": null,
      "outputs": []
    },
    {
      "cell_type": "markdown",
      "metadata": {
        "id": "HlkCsszf4DS_"
      },
      "source": [
        "3. Create a variable called filter_criteria to select the appropriate rows from the merged table so that you can sum the rides column."
      ]
    },
    {
      "cell_type": "code",
      "metadata": {
        "id": "gpy4hPdR4G8x"
      },
      "source": [
        "# Merge the ridership, cal, and stations tables\n",
        "ridership_cal_stations = ridership.merge(cal, on=['year','month','day']) \\\n",
        "\t\t\t\t\t\t\t.merge(stations, on='station_id')\n",
        "\n",
        "# Create a filter to filter ridership_cal_stations\n",
        "filter_criteria = ((ridership_cal_stations['month'] == 7) \n",
        "                   & (ridership_cal_stations['day_type'] == 'Weekday') \n",
        "                   & (ridership_cal_stations['station_name'] == 'Wilson'))\n",
        "\n",
        "# Use .loc and the filter to select for rides\n",
        "print(ridership_cal_stations.loc[filter_criteria, 'rides'].sum())"
      ],
      "execution_count": null,
      "outputs": []
    }
  ]
}