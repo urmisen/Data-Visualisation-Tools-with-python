{
  "nbformat": 4,
  "nbformat_minor": 0,
  "metadata": {
    "colab": {
      "name": "One_to_many_merge_with_multiple_tables.ipynb",
      "provenance": [],
      "collapsed_sections": []
    },
    "kernelspec": {
      "name": "python3",
      "display_name": "Python 3"
    }
  },
  "cells": [
    {
      "cell_type": "markdown",
      "metadata": {
        "id": "JoxRVUf-_kR-"
      },
      "source": [
        "# **One-to-many merge with multiple tables**\n",
        "In this exercise, assume that you are looking to start a business in the city of Chicago. Your perfect idea is to start a company that uses goats to mow the lawn for other businesses. However, you have to choose a location in the city to put your goat farm. You need a location with a great deal of space and relatively few businesses and people around to avoid complaints about the smell. You will need to merge three tables to help you choose your location. The land_use table has info on the percentage of vacant land by city ward. The census table has population by ward, and the licenses table lists businesses by ward.\n",
        "\n",
        "The land_use, census, and licenses tables have been loaded for you.\n",
        "\n",
        "# **Instructions**\n",
        "\n",
        "1. Merge land_use and census on the ward column. Merge the result of this with licenses on the ward column, using the suffix _cen for the left table and _lic for the right table. Save this to the variable land_cen_lic"
      ]
    },
    {
      "cell_type": "code",
      "metadata": {
        "id": "5GlRWS9g36rw"
      },
      "source": [
        "# Merge land_use and census and merge result with licenses including suffixes\n",
        "land_cen_lic = land_use.merge(census, on=\"ward\")\\\n",
        "                .merge(licenses,on=\"ward\",suffixes=('_cen','_lic'))"
      ],
      "execution_count": null,
      "outputs": []
    },
    {
      "cell_type": "markdown",
      "metadata": {
        "id": "BQ6Ei3Nx39p7"
      },
      "source": [
        "2. Group land_cen_lic by ward, pop_2010 (the population in 2010), and vacant, then count the number of accounts. Save the results to pop_vac_lic."
      ]
    },
    {
      "cell_type": "code",
      "metadata": {
        "id": "hKo4qcLY4Alj"
      },
      "source": [
        "# Group by ward, pop_2010, and vacant, then count the # of accounts\n",
        "pop_vac_lic = land_cen_lic.groupby([\"ward\",\"pop_2010\",\"vacant\"], \n",
        "                                   as_index=False).agg({'account':'count'})"
      ],
      "execution_count": null,
      "outputs": []
    },
    {
      "cell_type": "markdown",
      "metadata": {
        "id": "HlkCsszf4DS_"
      },
      "source": [
        "3. Sort pop_vac_lic by vacant, account, andpop_2010 in descending, ascending, and ascending order respectively. Save it as sorted_pop_vac_lic."
      ]
    },
    {
      "cell_type": "code",
      "metadata": {
        "id": "gpy4hPdR4G8x"
      },
      "source": [
        "sorted_pop_vac_lic = pop_vac_lic.sort_values([\"vacant\",\"account\",\"pop_2010\"], ascending=[False,True,True])\n",
        "\n",
        "# Print the top few rows of sorted_pop_vac_lic\n",
        "print(sorted_pop_vac_lic.head())"
      ],
      "execution_count": null,
      "outputs": []
    }
  ]
}