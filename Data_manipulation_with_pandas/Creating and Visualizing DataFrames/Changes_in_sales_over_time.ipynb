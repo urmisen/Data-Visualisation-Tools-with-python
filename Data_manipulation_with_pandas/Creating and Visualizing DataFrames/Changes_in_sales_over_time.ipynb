{
  "nbformat": 4,
  "nbformat_minor": 0,
  "metadata": {
    "colab": {
      "name": "Changes_in_sales_over_time.ipynb",
      "provenance": [],
      "collapsed_sections": []
    },
    "kernelspec": {
      "name": "python3",
      "display_name": "Python 3"
    }
  },
  "cells": [
    {
      "cell_type": "markdown",
      "metadata": {
        "id": "JoxRVUf-_kR-"
      },
      "source": [
        "# **Changes in sales over time**\n",
        "Line plots are designed to visualize the relationship between two numeric variables, where each data values is connected to the next one. They are especially useful for visualizing the change in a number over time since each time point is naturally connected to the next time point. In this exercise, you'll visualize the change in avocado sales over three years.\n",
        "\n",
        "pandas has been imported as pd.\n",
        "\n",
        "# **Instructions**\n",
        "\n",
        "1. Get the total number of avocados sold on each date. The DataFrame has two rows for each date -- one for organic, and one for conventional. Save this as nb_sold_by_date.\n",
        "2. Create a line plot of the number of avocados sold.\n",
        "3. Show the plot.\n",
        "\n"
      ]
    },
    {
      "cell_type": "code",
      "metadata": {
        "id": "FhgOikMMA6b2"
      },
      "source": [
        "# Import matplotlib.pyplot with alias plt\n",
        "import matplotlib.pyplot as plt\n",
        "\n",
        "# Get the total number of avocados sold on each date\n",
        "nb_sold_by_date = avocados.groupby(\"date\")[\"nb_sold\"].sum()\n",
        "\n",
        "# Create a line plot of the number of avocados sold by date\n",
        "nb_sold_by_date.plot(kind=\"line\")\n",
        "\n",
        "\n",
        "# Show the plot\n",
        "plt.show()"
      ],
      "execution_count": null,
      "outputs": []
    }
  ]
}