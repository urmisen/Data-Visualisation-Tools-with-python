{
  "nbformat": 4,
  "nbformat_minor": 0,
  "metadata": {
    "colab": {
      "name": "List_of_dictionaries.ipynb",
      "provenance": [],
      "collapsed_sections": []
    },
    "kernelspec": {
      "name": "python3",
      "display_name": "Python 3"
    }
  },
  "cells": [
    {
      "cell_type": "markdown",
      "metadata": {
        "id": "JoxRVUf-_kR-"
      },
      "source": [
        "# **List of dictionaries**\n",
        "You recently got some new avocado data from 2019 that you'd like to put in a DataFrame using the list of dictionaries method. Remember that with this method, you go through the data row by row.\n",
        "\n",
        "date==========small_sold============large_sold\n",
        "\n",
        "\"2019-11-03\"===\t10376832============7835071\n",
        "\n",
        "\"2019-11-10\"===\t10717154============8561348\n",
        "\n",
        "pandas as pd is imported.\n",
        "\n",
        "# **Instructions**\n",
        "\n",
        "1. Create a list of dictionaries with the new data called avocados_list.\n",
        "2. Convert the list into a DataFrame called avocados_2019.\n",
        "3. Print your new DataFrame.\n"
      ]
    },
    {
      "cell_type": "code",
      "metadata": {
        "id": "FhgOikMMA6b2"
      },
      "source": [
        "# Create a list of dictionaries with new data\n",
        "avocados_list = [\n",
        "    {\"date\": \"2019-11-03\", \"small_sold\" : 10376832, \"large_sold\" : 7835071},\n",
        "    {\"date\": \"2019-11-10\", \"small_sold\": 10717154, \"large_sold\" : 8561348},\n",
        "]\n",
        "\n",
        "# Convert list into DataFrame\n",
        "avocados_2019 = pd.DataFrame(avocados_list)\n",
        "\n",
        "# Print the new DataFrame\n",
        "print(avocados_2019)"
      ],
      "execution_count": null,
      "outputs": []
    }
  ]
}