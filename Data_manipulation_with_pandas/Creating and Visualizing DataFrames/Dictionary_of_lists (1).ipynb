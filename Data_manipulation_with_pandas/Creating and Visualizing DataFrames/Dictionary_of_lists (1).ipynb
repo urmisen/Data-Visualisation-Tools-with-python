{
  "nbformat": 4,
  "nbformat_minor": 0,
  "metadata": {
    "colab": {
      "name": "Dictionary_of_lists.ipynb",
      "provenance": [],
      "collapsed_sections": []
    },
    "kernelspec": {
      "name": "python3",
      "display_name": "Python 3"
    }
  },
  "cells": [
    {
      "cell_type": "markdown",
      "metadata": {
        "id": "JoxRVUf-_kR-"
      },
      "source": [
        "# **Dictionary of lists**\n",
        "Some more data just came in! This time, you'll use the dictionary of lists method, parsing the data column by column.\n",
        "\n",
        "date============\tsmall_sold===========\tlarge_sold\n",
        "\n",
        "\"2019-11-17\"====\t10859987=============\t7674135\n",
        "\n",
        "\"2019-12-01\"====\t9291631==============\t6238096\n",
        "\n",
        "pandas as pd is imported.\n",
        "\n",
        "# **Instructions**\n",
        "\n",
        "1. Create a dictionary of lists with the new data called avocados_dict.\n",
        "2. Convert the dictionary to a DataFrame called avocados_2019.\n",
        "3. Print your new DataFrame.\n"
      ]
    },
    {
      "cell_type": "code",
      "metadata": {
        "id": "FhgOikMMA6b2"
      },
      "source": [
        "# Create a dictionary of lists with new data\n",
        "avocados_dict = {\n",
        "  \"date\" : [\"2019-11-17\",\"2019-12-01\"],\n",
        "  \"small_sold\" : [10859987, 9291631],\n",
        "  \"large_sold\" : [7674135, 6238096]\n",
        "}\n",
        "\n",
        "# Convert dictionary into DataFrame\n",
        "avocados_2019 = pd.DataFrame(avocados_dict)\n",
        "\n",
        "# Print the new DataFrame\n",
        "print(avocados_2019)"
      ],
      "execution_count": null,
      "outputs": []
    }
  ]
}