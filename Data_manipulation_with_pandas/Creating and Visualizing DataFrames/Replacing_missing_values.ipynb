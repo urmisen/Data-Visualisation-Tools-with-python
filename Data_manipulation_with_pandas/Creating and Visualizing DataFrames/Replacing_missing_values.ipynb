{
  "nbformat": 4,
  "nbformat_minor": 0,
  "metadata": {
    "colab": {
      "name": "Replacing_missing_values.ipynb",
      "provenance": [],
      "collapsed_sections": []
    },
    "kernelspec": {
      "name": "python3",
      "display_name": "Python 3"
    }
  },
  "cells": [
    {
      "cell_type": "markdown",
      "metadata": {
        "id": "JoxRVUf-_kR-"
      },
      "source": [
        "# **Replacing missing values**\n",
        "Another way of handling missing values is to replace them all with the same value. For numerical variables, one option is to replace values with 0— you'll do this here. However, when you replace missing values, you make assumptions about what a missing value means. In this case, you will assume that a missing number sold means that no sales for that avocado type were made that week.\n",
        "\n",
        "In this exercise, you'll see how replacing missing values can affect the distribution of a variable using histograms. You can plot histograms for multiple variables at a time as follows:\n",
        "\n",
        "dogs[[\"height_cm\", \"weight_kg\"]].hist()\n",
        "\n",
        "pandas has been imported as pd and matplotlib.pyplot has been imported as plt. The avocados_2016 dataset is\n",
        "\n",
        "# **Instructions**\n",
        "\n",
        "1. A list has been created, cols_with_missing, containing the names of columns with missing values: \"small_sold\", \"large_sold\", and \"xl_sold\".\n",
        "2. Create a histogram of those columns.\n",
        "3. Show the plot.\n",
        "\n"
      ]
    },
    {
      "cell_type": "code",
      "metadata": {
        "id": "FhgOikMMA6b2"
      },
      "source": [
        "# List the columns with missing values\n",
        "cols_with_missing = [\"small_sold\", \"large_sold\", \"xl_sold\"]\n",
        "\n",
        "# Create histograms showing the distributions cols_with_missing\n",
        "avocados_2016[cols_with_missing].hist()\n",
        "\n",
        "# Show the plot\n",
        "plt.show()"
      ],
      "execution_count": null,
      "outputs": []
    },
    {
      "cell_type": "markdown",
      "metadata": {
        "id": "KTHLw7sliguM"
      },
      "source": [
        "4. Replace the missing values of avocados_2016 with 0s and store the result as avocados_filled.\n",
        "5. Create a histogram of the cols_with_missing columns of avocados_filled.\n",
        "\n"
      ]
    },
    {
      "cell_type": "code",
      "metadata": {
        "id": "eAJAHSRTijBs"
      },
      "source": [
        "# Fill in missing values with 0\n",
        "avocados_filled = avocados_2016.fillna(0)\n",
        "\n",
        "# Create histograms of the filled columns\n",
        "avocados_filled[cols_with_missing].hist()\n",
        "\n",
        "# Show the plot\n",
        "plt.show()"
      ],
      "execution_count": null,
      "outputs": []
    }
  ]
}