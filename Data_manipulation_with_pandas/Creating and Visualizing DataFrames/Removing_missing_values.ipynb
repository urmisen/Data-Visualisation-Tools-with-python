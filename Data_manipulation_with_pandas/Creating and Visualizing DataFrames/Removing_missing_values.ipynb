{
  "nbformat": 4,
  "nbformat_minor": 0,
  "metadata": {
    "colab": {
      "name": "Removing_missing_values.ipynb",
      "provenance": [],
      "collapsed_sections": []
    },
    "kernelspec": {
      "name": "python3",
      "display_name": "Python 3"
    }
  },
  "cells": [
    {
      "cell_type": "markdown",
      "metadata": {
        "id": "JoxRVUf-_kR-"
      },
      "source": [
        "# **Removing missing values**\n",
        "Now that you know there are some missing values in your DataFrame, you have a few options to deal with them. One way is to remove them from the dataset completely. In this exercise, you'll remove missing values by removing all rows that contain missing values.\n",
        "\n",
        "pandas has been imported as pd and avocados_2016 is available.\n",
        "\n",
        "# **Instructions**\n",
        "\n",
        "1. Remove the rows of avocados_2016 that contain missing values and store the remaining rows in avocados_complete.\n",
        "2. Verify that all missing values have been removed from avocados_complete. Calculate each column that has NAs and print.\n"
      ]
    },
    {
      "cell_type": "code",
      "metadata": {
        "id": "FhgOikMMA6b2"
      },
      "source": [
        "# Remove rows with missing values\n",
        "avocados_complete = avocados_2016.dropna()\n",
        "\n",
        "# Check if any columns contain missing values\n",
        "print(avocados_complete.isna().any())"
      ],
      "execution_count": null,
      "outputs": []
    }
  ]
}