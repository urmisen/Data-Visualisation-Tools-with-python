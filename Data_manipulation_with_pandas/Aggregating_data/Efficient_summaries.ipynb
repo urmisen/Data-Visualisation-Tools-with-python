{
  "nbformat": 4,
  "nbformat_minor": 0,
  "metadata": {
    "colab": {
      "name": "Efficient_summaries.ipynb",
      "provenance": []
    },
    "kernelspec": {
      "name": "python3",
      "display_name": "Python 3"
    }
  },
  "cells": [
    {
      "cell_type": "markdown",
      "metadata": {
        "id": "CEzqMfmvEFD5"
      },
      "source": [
        "\n",
        "# **Efficient summaries**\n",
        "While pandas and NumPy have tons of functions, sometimes, you may need a different function to summarize your data.\n",
        "\n",
        "The .agg() method allows you to apply your own custom functions to a DataFrame, as well as apply functions to more than one column of a DataFrame at once, making your aggregations super-efficient. For example,\n",
        "\n",
        "df['column'].agg(function)\n",
        "\n",
        "In the custom function for this exercise, \"IQR\" is short for inter-quartile range, which is the 75th percentile minus the 25th percentile. It's an alternative to standard deviation that is helpful if your data contains outliers.\n",
        "\n",
        "sales is available and pandas is loaded as pd.\n",
        "# **Instructions**\n",
        "1. Use the custom iqr function defined for you along with .agg() to print the IQR of the temperature_c column of sales.\n",
        "2. Update the column selection to use the custom iqr function with .agg() to print the IQR of temperature_c, fuel_price_usd_per_l, and unemployment, in that order.\n",
        "3. Update the aggregation functions called by .agg(): include iqr and np.median in that order."
      ]
    },
    {
      "cell_type": "code",
      "metadata": {
        "id": "J6DWdGtxEAEo"
      },
      "source": [
        "# A custom IQR function\n",
        "def iqr(column):\n",
        "    return column.quantile(0.75) - column.quantile(0.25)\n",
        "    \n",
        "# Print IQR of the temperature_c column\n",
        "print(sales['temperature_c'].agg(iqr))\n",
        "\n",
        "# A custom IQR function\n",
        "def iqr(column):\n",
        "    return column.quantile(0.75) - column.quantile(0.25)\n",
        "\n",
        "# Update to print IQR of temperature_c, fuel_price_usd_per_l, & unemployment\n",
        "print(sales[[\"temperature_c\", \"fuel_price_usd_per_l\", \"unemployment\"]].agg(iqr))\n",
        "\n",
        "# Import NumPy and create custom IQR function\n",
        "import numpy as np\n",
        "def iqr(column):\n",
        "    return column.quantile(0.75) - column.quantile(0.25)\n",
        "\n",
        "# Update to print IQR and median of temperature_c, fuel_price_usd_per_l, & unemployment\n",
        "print(sales[[\"temperature_c\", \"fuel_price_usd_per_l\", \"unemployment\"]].agg([iqr,np.median]))"
      ],
      "execution_count": null,
      "outputs": []
    }
  ]
}