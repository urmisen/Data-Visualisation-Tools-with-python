{
  "nbformat": 4,
  "nbformat_minor": 0,
  "metadata": {
    "colab": {
      "name": "Calculations_with_groupby.ipynb",
      "provenance": []
    },
    "kernelspec": {
      "name": "python3",
      "display_name": "Python 3"
    }
  },
  "cells": [
    {
      "cell_type": "markdown",
      "metadata": {
        "id": "CEzqMfmvEFD5"
      },
      "source": [
        "\n",
        "# **Calculations with .groupby()**\n",
        "The .groupby() method makes life much easier. In this exercise, you'll perform the same calculations as last time, except you'll use the .groupby() method. You'll also perform calculations on data grouped by two variables to see if sales differ by store type depending on if it's a holiday week or not.\n",
        "\n",
        "sales is available and pandas is loaded as pd.\n",
        "\n",
        "# **Instructions**\n",
        "1. Group sales by \"type\", take the sum of \"weekly_sales\", and store as sales_by_type.\n",
        "2. Calculate the proportion of sales at each store type by dividing by the sum of sales_by_type. Assign to sales_propn_by_type.\n",
        "3. Group sales by \"type\" and \"is_holiday\", take the sum of weekly_sales, and store as sales_by_type_is_holiday."
      ]
    },
    {
      "cell_type": "code",
      "metadata": {
        "id": "J6DWdGtxEAEo"
      },
      "source": [
        "# Group by type; calc total weekly sales\n",
        "sales_by_type = sales.groupby(\"type\")[\"weekly_sales\"].sum()\n",
        "\n",
        "# Get proportion for each type\n",
        "sales_propn_by_type = sales_by_type/sales_by_type.sum()\n",
        "print(sales_propn_by_type)\n",
        "\n",
        "# Group by type and is_holiday; calc total weekly sales\n",
        "sales_by_type_is_holiday = sales.groupby([\"type\",\"is_holiday\"])[\"weekly_sales\"].sum()\n",
        "print(sales_by_type_is_holiday)"
      ],
      "execution_count": null,
      "outputs": []
    }
  ]
}