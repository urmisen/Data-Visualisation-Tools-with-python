{
  "nbformat": 4,
  "nbformat_minor": 0,
  "metadata": {
    "colab": {
      "name": "What_percent_of_sales_occurred_at_each_store_type.ipynb",
      "provenance": []
    },
    "kernelspec": {
      "name": "python3",
      "display_name": "Python 3"
    }
  },
  "cells": [
    {
      "cell_type": "markdown",
      "metadata": {
        "id": "CEzqMfmvEFD5"
      },
      "source": [
        "\n",
        "# **What percent of sales occurred at each store type?**\n",
        "While .groupby() is useful, you can calculate grouped summary statistics without it.\n",
        "\n",
        "Walmart distinguishes three types of stores: \"supercenters,\" \"discount stores,\" and \"neighborhood markets,\" encoded in this dataset as type \"A,\" \"B,\" and \"C.\" In this exercise, you'll calculate the total sales made at each store type, without using .groupby(). You can then use these numbers to see what proportion of Walmart's total sales were made at each type.\n",
        "\n",
        "sales is available and pandas is imported as pd.\n",
        "\n",
        "# **Instructions**\n",
        "1. Calculate the total weekly_sales over the whole dataset.\n",
        "2. Subset for type \"A\" stores, and calculate their total weekly sales.\n",
        "3. Do the same for type \"B\" and type \"C\" stores.\n",
        "4. Combine the A/B/C results into a list, and divide by sales_all to get the proportion of sales by type."
      ]
    },
    {
      "cell_type": "code",
      "metadata": {
        "id": "J6DWdGtxEAEo"
      },
      "source": [
        "# Calc total weekly sales\n",
        "sales_all = sales[\"weekly_sales\"].sum()\n",
        "\n",
        "# Subset for type A stores, calc total weekly sales\n",
        "sales_A = sales[sales[\"type\"] == \"A\"][\"weekly_sales\"].sum()\n",
        "\n",
        "# Subset for type B stores, calc total weekly sales\n",
        "sales_B = sales[sales[\"type\"] == \"B\"][\"weekly_sales\"].sum()\n",
        "\n",
        "# Subset for type C stores, calc total weekly sales\n",
        "sales_C = sales[sales[\"type\"] == \"C\"][\"weekly_sales\"].sum()\n",
        "\n",
        "# Get proportion for each type\n",
        "sales_propn_by_type = [sales_A, sales_B, sales_C] / sales_all\n",
        "print(sales_propn_by_type)"
      ],
      "execution_count": null,
      "outputs": []
    }
  ]
}