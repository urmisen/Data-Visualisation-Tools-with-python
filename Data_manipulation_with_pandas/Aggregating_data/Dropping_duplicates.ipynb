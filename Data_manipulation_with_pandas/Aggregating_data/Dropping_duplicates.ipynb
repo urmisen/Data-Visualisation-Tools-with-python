{
  "nbformat": 4,
  "nbformat_minor": 0,
  "metadata": {
    "colab": {
      "name": "Dropping_duplicates.ipynb",
      "provenance": []
    },
    "kernelspec": {
      "name": "python3",
      "display_name": "Python 3"
    }
  },
  "cells": [
    {
      "cell_type": "markdown",
      "metadata": {
        "id": "CEzqMfmvEFD5"
      },
      "source": [
        "\n",
        "# **Dropping duplicates**\n",
        "Removing duplicates is an essential skill to get accurate counts because often, you don't want to count the same thing multiple times. In this exercise, you'll create some new DataFrames using unique values from sales.\n",
        "\n",
        "sales is available and pandas is imported as pd.\n",
        "\n",
        "# **Instructions**\n",
        "1. Remove rows of sales with duplicate pairs of store and type and save as store_types and print the head.\n",
        "2. Remove rows of sales with duplicate pairs of store and department and save as store_depts and print the head.\n",
        "3. Subset the rows that are holiday weeks using the is_holiday column, and drop the duplicate dates, saving as holiday_dates.\n",
        "4. Select the date column of holiday_dates, and print."
      ]
    },
    {
      "cell_type": "code",
      "metadata": {
        "id": "J6DWdGtxEAEo"
      },
      "source": [
        "# Drop duplicate store/type combinations\n",
        "store_types = sales.drop_duplicates(subset= [\"store\", \"type\"])\n",
        "print(store_types.head())\n",
        "\n",
        "# Drop duplicate store/department combinations\n",
        "store_depts = sales.drop_duplicates(subset= [\"store\", \"department\"])\n",
        "print(store_depts.head())\n",
        "\n",
        "# Subset the rows where is_holiday is True and drop duplicate dates\n",
        "holiday_dates = sales[sales[\"is_holiday\"]].drop_duplicates(\"date\")\n",
        "\n",
        "# Print date col of holiday_dates\n",
        "print(holiday_dates[\"date\"])"
      ],
      "execution_count": null,
      "outputs": []
    }
  ]
}