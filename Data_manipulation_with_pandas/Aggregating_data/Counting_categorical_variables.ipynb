{
  "nbformat": 4,
  "nbformat_minor": 0,
  "metadata": {
    "colab": {
      "name": "Counting_categorical_variables.ipynb",
      "provenance": []
    },
    "kernelspec": {
      "name": "python3",
      "display_name": "Python 3"
    }
  },
  "cells": [
    {
      "cell_type": "markdown",
      "metadata": {
        "id": "CEzqMfmvEFD5"
      },
      "source": [
        "\n",
        "# **Counting categorical variables**\n",
        "Counting is a great way to get an overview of your data and to spot curiosities that you might not notice otherwise. In this exercise, you'll count the number of each type of store and the number of each department number using the DataFrames you created in the previous exercise:\n",
        "\n",
        "### **Drop duplicate store/type combinations**\n",
        "store_types = sales.drop_duplicates(subset=[\"store\", \"type\"])\n",
        "\n",
        "### **Drop duplicate store/department combinations**\n",
        "store_depts = sales.drop_duplicates(subset=[\"store\", \"department\"])\n",
        "\n",
        "The store_types and store_depts DataFrames you created in the last exercise are available, and pandas is imported as pd.\n",
        "\n",
        "# **Instructions**\n",
        "1. Count the number of stores of each store type in store_types.\n",
        "2. Count the proportion of stores of each store type in store_types.\n",
        "3. Count the number of different departments in store_depts, sorting the counts in descending order.\n",
        "4. Count the proportion of different departments in store_depts, sorting the proportions in descending order."
      ]
    },
    {
      "cell_type": "code",
      "metadata": {
        "id": "J6DWdGtxEAEo"
      },
      "source": [
        "# Count the number of stores of each type\n",
        "store_counts = store_types[\"type\"].value_counts()\n",
        "print(store_counts)\n",
        "\n",
        "# Get the proportion of stores of each type\n",
        "store_props = store_types[\"type\"].value_counts(normalize=True)\n",
        "print(store_props)\n",
        "\n",
        "# Count the number of each department number and sort\n",
        "dept_counts_sorted = store_depts[\"department\"].value_counts(sort=True)\n",
        "print(dept_counts_sorted)\n",
        "\n",
        "# Get the proportion of departments of each number and sort\n",
        "dept_props_sorted = store_depts[\"department\"].value_counts(sort=True, normalize=True)\n",
        "print(dept_props_sorted)"
      ],
      "execution_count": null,
      "outputs": []
    }
  ]
}