{
  "nbformat": 4,
  "nbformat_minor": 0,
  "metadata": {
    "colab": {
      "name": "Fill_in_missing_values_and_sum_values_with_pivot_tables.ipynb",
      "provenance": []
    },
    "kernelspec": {
      "name": "python3",
      "display_name": "Python 3"
    }
  },
  "cells": [
    {
      "cell_type": "markdown",
      "metadata": {
        "id": "CEzqMfmvEFD5"
      },
      "source": [
        "\n",
        "# **Fill in missing values and sum values with pivot tables**\n",
        "The .pivot_table() method has several useful arguments, including fill_value and margins.\n",
        "\n",
        "fill_value replaces missing values with a real value (known as imputation). What to replace missing values with is a topic big enough to have its own course (Dealing with Missing Data in Python), but the simplest thing to do is to substitute a dummy value.\n",
        "margins is a shortcut for when you pivoted by two variables, but also wanted to pivot by each of those variables separately: it gives the row and column totals of the pivot table contents.\n",
        "In this exercise, you'll practice using these arguments to up your pivot table skills, which will help you crunch numbers more efficiently!\n",
        "\n",
        "# **Instructions**\n",
        "1. Print the mean weekly_sales by department and type, filling in any missing values with 0.\n",
        "2. Print the mean weekly_sales by department and type, filling in any missing values with 0 and summing all rows and columns."
      ]
    },
    {
      "cell_type": "code",
      "metadata": {
        "id": "J6DWdGtxEAEo"
      },
      "source": [
        "# Print mean weekly_sales by department and type; fill missing values with 0\n",
        "print(sales.pivot_table(values=\"weekly_sales\", index=\"department\",\n",
        "                        columns=\"type\", fill_value = 0))\n",
        "\n",
        "# Print the mean weekly_sales by department and type; fill missing values with 0s; sum all rows and cols\n",
        "print(sales.pivot_table(values=\"weekly_sales\", index=\"department\",\n",
        "                        columns=\"type\", fill_value = 0,margins=sum))"
      ],
      "execution_count": null,
      "outputs": []
    }
  ]
}