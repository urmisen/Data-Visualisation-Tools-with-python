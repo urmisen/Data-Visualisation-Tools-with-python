{
  "nbformat": 4,
  "nbformat_minor": 0,
  "metadata": {
    "colab": {
      "name": "Summarizing_dates.ipynb",
      "provenance": []
    },
    "kernelspec": {
      "name": "python3",
      "display_name": "Python 3"
    }
  },
  "cells": [
    {
      "cell_type": "markdown",
      "metadata": {
        "id": "CEzqMfmvEFD5"
      },
      "source": [
        "\n",
        "# **Summarizing dates**\n",
        "Summary statistics can also be calculated on date columns that have values with the data type datetime64. Some summary statistics — like mean — don't make a ton of sense on dates, but others are super helpful, for example, minimum and maximum, which allow you to see what time range your data covers.\n",
        "\n",
        "sales is available and pandas is loaded as pd.\n",
        "# **Instructions**\n",
        "1. Print the maximum of the date column.\n",
        "2. Print the minimum of the date column."
      ]
    },
    {
      "cell_type": "code",
      "metadata": {
        "id": "J6DWdGtxEAEo"
      },
      "source": [
        "# Print the maximum of the date column\n",
        "print(sales[\"date\"].max())\n",
        "\n",
        "# Print the minimum of the date column\n",
        "print(sales[\"date\"].min())"
      ],
      "execution_count": null,
      "outputs": []
    }
  ]
}