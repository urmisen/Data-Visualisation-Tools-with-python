{
  "nbformat": 4,
  "nbformat_minor": 0,
  "metadata": {
    "colab": {
      "name": "Parts_of_a_DataFrame.ipynb",
      "provenance": []
    },
    "kernelspec": {
      "name": "python3",
      "display_name": "Python 3"
    }
  },
  "cells": [
    {
      "cell_type": "markdown",
      "metadata": {
        "id": "CEzqMfmvEFD5"
      },
      "source": [
        "\n",
        "# **Parts of a DataFrame**\n",
        "To better understand DataFrame objects, it's useful to know that they consist of three components, stored as attributes:\n",
        "\n",
        "* alues: A two-dimensional NumPy array of values.\n",
        "* columns: An index of columns: the column names.\n",
        "* index: An index for the rows: either row numbers or row names.\n",
        "\n",
        "You can usually think of indexes as a list of strings or numbers, though the pandas Index data type allows for more sophisticated options. (These will be covered later in the course.)\n",
        "\n",
        "homelessness is available.\n",
        "\n",
        "# **Instructions**\n",
        "1. Import pandas using the alias pd.\n",
        "2. Print a 2D NumPy array of the values in homelessness.\n",
        "3. Print the column names of homelessness.\n",
        "4. Print the index of homelessness.\n",
        "\n"
      ]
    },
    {
      "cell_type": "code",
      "metadata": {
        "id": "J6DWdGtxEAEo"
      },
      "source": [
        "# Import pandas using the alias pd\n",
        "import pandas as pd\n",
        "\n",
        "# Print the values of homelessness\n",
        "print(homelessness.values)\n",
        "\n",
        "# Print the column index of homelessness\n",
        "print(homelessness.columns)\n",
        "\n",
        "# Print the row index of homelessness\n",
        "print(homelessness.index)"
      ],
      "execution_count": null,
      "outputs": []
    }
  ]
}