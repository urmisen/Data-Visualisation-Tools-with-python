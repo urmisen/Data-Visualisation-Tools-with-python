{
  "nbformat": 4,
  "nbformat_minor": 0,
  "metadata": {
    "colab": {
      "name": "Subsetting_rows.ipynb",
      "provenance": [],
      "collapsed_sections": []
    },
    "kernelspec": {
      "name": "python3",
      "display_name": "Python 3"
    }
  },
  "cells": [
    {
      "cell_type": "markdown",
      "metadata": {
        "id": "JoxRVUf-_kR-"
      },
      "source": [
        "# **Subsetting rows**\n",
        "\n",
        "A large part of data science is about finding which bits of your dataset are interesting. One of the simplest techniques for this is to find a subset of rows that match some criteria. This is sometimes known as filtering rows or selecting rows.\n",
        "\n",
        "There are many ways to subset a DataFrame, perhaps the most common is to use relational operators to return True or False for each row, then pass that inside square brackets.\n",
        "\n",
        "dogs[dogs[\"height_cm\"] > 60]\n",
        "dogs[dogs[\"color\"] == \"tan\"]\n",
        "You can filter for multiple conditions at once by using the \"bitwise and\" operator, &.\n",
        "\n",
        "dogs[(dogs[\"height_cm\"] > 60) & (dogs[\"color\"] == \"tan\")]\n",
        "homelessness is available and pandas is loaded as pd.\n",
        "\n",
        "# **Instructions**\n",
        "\n",
        "1. Filter homelessness for cases where the number of individuals is greater than ten thousand, assigning to ind_gt_10k. View the printed result.\n",
        "2. Filter homelessness for cases where the USA Census region is \"Mountain\", assigning to mountain_reg. View the printed result.\n",
        "\n",
        "3. Filter homelessness for cases where the number of family_members is less than one thousand and the region is \"Pacific\", assigning to fam_lt_1k_pac. View the printed result.\n"
      ]
    },
    {
      "cell_type": "code",
      "metadata": {
        "id": "FhgOikMMA6b2"
      },
      "source": [
        "# Filter for rows where individuals is greater than 10000\n",
        "ind_gt_10k = homelessness[homelessness[\"individuals\"] > 10000]\n",
        "\n",
        "# See the result\n",
        "print(ind_gt_10k)\n",
        "\n",
        "# Filter for rows where region is Mountain\n",
        "mountain_reg =homelessness[homelessness[\"region\"] == \"Mountain\"]\n",
        "\n",
        "# See the result\n",
        "print(mountain_reg)\n",
        "\n",
        "# Filter for rows where family_members is less than 1000 \n",
        "# and region is Pacific\n",
        "fam_lt_1k_pac = homelessness[(homelessness[\"family_members\"] < 1000) & (homelessness[\"region\"] == \"Pacific\")]\n",
        "\n",
        "# See the result\n",
        "print(fam_lt_1k_pac)"
      ],
      "execution_count": null,
      "outputs": []
    }
  ]
}