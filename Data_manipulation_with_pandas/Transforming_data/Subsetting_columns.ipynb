{
  "nbformat": 4,
  "nbformat_minor": 0,
  "metadata": {
    "colab": {
      "name": "Subsetting_columns.ipynb",
      "provenance": [],
      "collapsed_sections": []
    },
    "kernelspec": {
      "name": "python3",
      "display_name": "Python 3"
    }
  },
  "cells": [
    {
      "cell_type": "markdown",
      "metadata": {
        "id": "JoxRVUf-_kR-"
      },
      "source": [
        "# **Subsetting columns**\n",
        "\n",
        "When working with data, you may not need all of the variables in your dataset. Square brackets ([]) can be used to select only the columns that matter to you in an order that makes sense to you. To select only \"col_a\" of the DataFrame df, use\n",
        "\n",
        "df[\"col_a\"]\n",
        "\n",
        "To select \"col_a\" and \"col_b\" of df, use\n",
        "\n",
        "df[[\"col_a\", \"col_b\"]]\n",
        "\n",
        "homelessness is available and pandas is loaded as pd.\n",
        "\n",
        "# **Instructions**\n",
        "\n",
        "1. Create a DataFrame called individuals that contains only the individuals column of homelessness.\n",
        "2. Print the head of the result.\n",
        "\n",
        "3. Create a DataFrame called state_fam that contains only the state and family_members columns of homelessness, in that order.\n",
        "4. Print the head of the result.\n",
        "5. Create a DataFrame called ind_state that contains the individuals and state columns of homelessness, in that order.\n",
        "6. Print the head of the result.\n",
        "\n"
      ]
    },
    {
      "cell_type": "code",
      "metadata": {
        "id": "FhgOikMMA6b2"
      },
      "source": [
        "# Select the individuals column\n",
        "individuals = homelessness[\"individuals\"]\n",
        "\n",
        "# Print the head of the result\n",
        "print(individuals.head())\n",
        "\n",
        "# Select the state and family_members columns\n",
        "state_fam = homelessness[[\"state\",\"family_members\"]]\n",
        "\n",
        "# Print the head of the result\n",
        "print(state_fam.head())\n",
        "\n",
        "# Select only the individuals and state columns, in that order\n",
        "ind_state = homelessness[[\"individuals\",\"state\"]]\n",
        "\n",
        "# Print the head of the result\n",
        "print(ind_state.head())"
      ],
      "execution_count": null,
      "outputs": []
    }
  ]
}