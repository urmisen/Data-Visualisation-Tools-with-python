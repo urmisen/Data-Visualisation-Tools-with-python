{
  "nbformat": 4,
  "nbformat_minor": 0,
  "metadata": {
    "colab": {
      "name": "Inspecting_a_DataFrame.ipynb",
      "provenance": []
    },
    "kernelspec": {
      "name": "python3",
      "display_name": "Python 3"
    }
  },
  "cells": [
    {
      "cell_type": "markdown",
      "metadata": {
        "id": "CEzqMfmvEFD5"
      },
      "source": [
        "\n",
        "# **Inspecting a DataFrame**\n",
        "When you get a new DataFrame to work with, the first thing you need to do is explore it and see what it contains. There are several useful methods and attributes for this.\n",
        "\n",
        "* head() returns the first few rows (the “head” of the DataFrame).\n",
        "* info() shows information on each of the columns, such as the data type and number of missing values.\n",
        "* shape returns the number of rows and columns of the DataFrame.\n",
        "* describe() calculates a few summary statistics for each column.\n",
        "\n",
        "homelessness is a DataFrame containing estimates of homelessness in each U.S. state in 2018. The individual column is the number of homeless individuals not part of a family with children. The family_members column is the number of homeless individuals part of a family with children. The state_pop column is the state's total population.\n",
        "\n",
        "pandas is imported for you.\n",
        "\n",
        "# **Instructions**\n",
        "1. Print the head of the homelessness DataFrame.\n",
        "2. Print information about the column types and missing values in homelessness.\n",
        "3. Print the number of rows and columns in homelessness.\n",
        "4. Print some summary statistics that describe the homelessness DataFrame."
      ]
    },
    {
      "cell_type": "code",
      "metadata": {
        "id": "J6DWdGtxEAEo"
      },
      "source": [
        "# Print the head of the homelessness data\n",
        "print(homelessness.head())\n",
        "\n",
        "# Print information about homelessness\n",
        "print(homelessness.info())\n",
        "\n",
        "# Print the shape of homelessness\n",
        "print(homelessness.shape)\n",
        "\n",
        "# Print a description of homelessness\n",
        "print(homelessness.describe())\n"
      ],
      "execution_count": null,
      "outputs": []
    }
  ]
}