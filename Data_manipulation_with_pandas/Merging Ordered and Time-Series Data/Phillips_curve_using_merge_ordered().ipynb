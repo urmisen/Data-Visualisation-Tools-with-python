{
  "nbformat": 4,
  "nbformat_minor": 0,
  "metadata": {
    "colab": {
      "name": "Phillips_curve_using_merge_ordered().ipynb",
      "provenance": [],
      "collapsed_sections": []
    },
    "kernelspec": {
      "name": "python3",
      "display_name": "Python 3"
    }
  },
  "cells": [
    {
      "cell_type": "markdown",
      "metadata": {
        "id": "JoxRVUf-_kR-"
      },
      "source": [
        "# **Phillips curve using merge_ordered()**\n",
        "There is an economic theory developed by A. W. Phillips which states that inflation and unemployment have an inverse relationship. The theory claims that with economic growth comes inflation, which in turn should lead to more jobs and less unemployment.\n",
        "\n",
        "You will take two tables of data from the U.S. Bureau of Labor Statistics, containing unemployment and inflation data over different periods, and create a Phillips curve. The tables have different frequencies. One table has a data entry every six months, while the other has a data entry every month. You will need to use the entries where you have data within both tables.\n",
        "\n",
        "The tables unemployment and inflation have been loaded for you.\n",
        "\n",
        "# **Instructions**\n",
        "\n",
        "1. Use merge_ordered() to merge the unemployment and inflation tables on date with an inner join, and save the results as inflation_unemploy.\n",
        "2. Print the inflation_unemploy variable.\n",
        "3. Using inflation_unemploy, create a scatter plot with unemployment_rate on the horizontal axis and cpi (inflation) on the vertical axis."
      ]
    },
    {
      "cell_type": "code",
      "metadata": {
        "id": "5GlRWS9g36rw"
      },
      "source": [
        "# Use merge_ordered() to merge inflation, unemployment with inner join\n",
        "inflation_unemploy = pd.merge_ordered(inflation,unemployment, on='date',how='inner')\n",
        "\n",
        "# Print inflation_unemploy \n",
        "print(inflation_unemploy)\n",
        "\n",
        "# Plot a scatter plot of unemployment_rate vs cpi of inflation_unemploy\n",
        "inflation_unemploy.plot(x='unemployment_rate',y='cpi',kind='scatter')\n",
        "plt.show()"
      ],
      "execution_count": null,
      "outputs": []
    }
  ]
}