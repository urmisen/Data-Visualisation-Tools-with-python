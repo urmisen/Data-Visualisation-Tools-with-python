{
  "nbformat": 4,
  "nbformat_minor": 0,
  "metadata": {
    "colab": {
      "name": "Correlation_between_GDP_and_S&P500.ipynb",
      "provenance": [],
      "collapsed_sections": []
    },
    "kernelspec": {
      "name": "python3",
      "display_name": "Python 3"
    }
  },
  "cells": [
    {
      "cell_type": "markdown",
      "metadata": {
        "id": "JoxRVUf-_kR-"
      },
      "source": [
        "# **Correlation between GDP and S&P500**\n",
        "In this exercise, you want to analyze stock returns from the S&P 500. You believe there may be a relationship between the returns of the S&P 500 and the GDP of the US. Merge the different datasets together to compute the correlation.\n",
        "\n",
        "Two tables have been provided for you, named sp500, and gdp. As always, pandas has been imported for you as pd.\n",
        "\n",
        "# **Instructions**\n",
        "\n",
        "1. Use merge_ordered() to merge gdp and sp500 using a left join on year and date. Save the results as gdp_sp500.\n",
        "2. Print gdp_sp500 and look at the returns for the year 2018."
      ]
    },
    {
      "cell_type": "code",
      "metadata": {
        "id": "5GlRWS9g36rw"
      },
      "source": [
        "# Use merge_ordered() to merge gdp and sp500 on year and date\n",
        "gdp_sp500 = pd.merge_ordered(gdp, sp500, left_on='year', right_on='date', \n",
        "                             how='left')\n",
        "\n",
        "# Print gdp_sp500\n",
        "print(gdp_sp500)"
      ],
      "execution_count": null,
      "outputs": []
    },
    {
      "cell_type": "markdown",
      "metadata": {
        "id": "kaeSZRlxRFIS"
      },
      "source": [
        "3. Use merge_ordered(), again similar to before, to merge gdp and sp500 use the function's ability to interpolate missing data to forward fill the missing value for returns, assigning this table to the variable gdp_sp500."
      ]
    },
    {
      "cell_type": "code",
      "metadata": {
        "id": "XZ_wQLYNRxCd"
      },
      "source": [
        "# Use merge_ordered() to merge gdp and sp500, interpolate missing value\n",
        "gdp_sp500 = pd.merge_ordered(gdp, sp500, left_on='year', right_on='date', \n",
        "                             how='left',fill_method='ffill')\n",
        "\n",
        "\n",
        "# Print gdp_sp500\n",
        "print (gdp_sp500)"
      ],
      "execution_count": null,
      "outputs": []
    },
    {
      "cell_type": "markdown",
      "metadata": {
        "id": "UWmsrU3kxsCr"
      },
      "source": [
        "4. Subset the gdp_sp500 table, select the gdp and returns columns, and save as gdp_returns.\n",
        "5. Print the correlation matrix of the gdp_returns table."
      ]
    },
    {
      "cell_type": "code",
      "metadata": {
        "id": "_axjHp1yx7sg"
      },
      "source": [
        "# Use merge_ordered() to merge gdp and sp500, interpolate missing value\n",
        "gdp_sp500 = pd.merge_ordered(gdp, sp500, left_on='year', right_on='date', \n",
        "                             how='left',  fill_method='ffill')\n",
        "\n",
        "# Subset the gdp and returns columns\n",
        "gdp_returns = gdp_sp500[['gdp','returns']]\n",
        "\n",
        "# Print gdp_returns correlation\n",
        "print (gdp_returns.corr())"
      ],
      "execution_count": null,
      "outputs": []
    }
  ]
}