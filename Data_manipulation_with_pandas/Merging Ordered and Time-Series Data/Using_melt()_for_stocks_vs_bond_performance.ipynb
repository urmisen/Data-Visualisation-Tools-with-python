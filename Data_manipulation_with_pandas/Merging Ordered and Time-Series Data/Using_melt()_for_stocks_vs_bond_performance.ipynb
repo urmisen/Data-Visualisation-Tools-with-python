{
  "nbformat": 4,
  "nbformat_minor": 0,
  "metadata": {
    "colab": {
      "name": "Using_melt()_for_stocks_vs_bond_performance.ipynb",
      "provenance": [],
      "collapsed_sections": []
    },
    "kernelspec": {
      "name": "python3",
      "display_name": "Python 3"
    }
  },
  "cells": [
    {
      "cell_type": "markdown",
      "metadata": {
        "id": "JoxRVUf-_kR-"
      },
      "source": [
        "# **Using .melt() for stocks vs bond performance**\n",
        "It is widespread knowledge that the price of bonds is inversely related to the price of stocks. In this last exercise, you'll review many of the topics in this chapter to confirm this. You have been given a table of percent change of the US 10-year treasury bond price. It is in a wide format where there is a separate column for each year. You will need to use the .melt() method to reshape this table.\n",
        "\n",
        "Additionally, you will use the .query() method to filter out unneeded data. You will merge this table with a table of the percent change of the Dow Jones Industrial stock index price. Finally, you will plot data.\n",
        "\n",
        "The tables ten_yr and dji have been loaded for you.\n",
        "\n",
        "# **Instructions**\n",
        "\n",
        "1. Use .melt() on ten_yr to unpivot everything except the metric column, setting var_name='date' and value_name='close'. Save the result to bond_perc.\n",
        "2. Using the .query() method, select only those rows were metric equals 'close', and save to bond_perc_close.\n",
        "3. Use merge_ordered() to merge dji (left table) and bond_perc_close on date with an inner join, and set suffixes equal to ('_dow', '_bond'). Save the result to dow_bond.\n",
        "4. Using dow_bond, plot only the Dow and bond values."
      ]
    },
    {
      "cell_type": "code",
      "metadata": {
        "id": "5GlRWS9g36rw"
      },
      "source": [
        "# Use melt on ten_yr, unpivot everything besides the metric column\n",
        "bond_perc = ten_yr.melt(id_vars='metric', var_name='date', value_name='close')\n",
        "\n",
        "# Use query on bond_perc to select only the rows where metric=close\n",
        "bond_perc_close = bond_perc.query('metric== \"close\"')\n",
        "\n",
        "# Merge (ordered) dji and bond_perc_close on date with an inner join\n",
        "dow_bond = pd.merge_ordered(dji, bond_perc_close, on ='date',how='inner', suffixes= ('_dow', '_bond'))\n",
        "\n",
        "# Plot only the close_dow and close_bond columns\n",
        "dow_bond.plot(y=['close_dow','close_bond'], x='date', rot=90)\n",
        "plt.show()\n"
      ],
      "execution_count": null,
      "outputs": []
    }
  ]
}