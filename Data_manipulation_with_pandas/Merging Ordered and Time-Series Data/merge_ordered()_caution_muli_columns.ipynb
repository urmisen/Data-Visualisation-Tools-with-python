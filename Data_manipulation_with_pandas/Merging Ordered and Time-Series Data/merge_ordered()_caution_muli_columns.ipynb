{
  "nbformat": 4,
  "nbformat_minor": 0,
  "metadata": {
    "colab": {
      "name": "merge_ordered()_caution_muli_columns.ipynb",
      "provenance": [],
      "collapsed_sections": []
    },
    "kernelspec": {
      "name": "python3",
      "display_name": "Python 3"
    }
  },
  "cells": [
    {
      "cell_type": "markdown",
      "metadata": {
        "id": "JoxRVUf-_kR-"
      },
      "source": [
        "# **merge_ordered() caution, multiple columns**\n",
        "When using merge_ordered() to merge on multiple columns, the order is important when you combine it with the forward fill feature. The function sorts the merge on columns in the order provided. In this exercise, we will merge GDP and population data from the World Bank for the Australia and Sweden, reversing the order of the merge on columns. The frequency of the series are different, the GDP values are quarterly, and the population is yearly. Use the forward fill feature to fill in the missing data. Depending on the order provided, the fill forward will use unintended data to fill in the missing values.\n",
        "\n",
        "The tables gdp and pop have been loaded.\n",
        "\n",
        "# **Instructions**\n",
        "\n",
        "1. Use merge_ordered() on gdp and pop, merging on columns date and country with the fill feature, save to ctry_date."
      ]
    },
    {
      "cell_type": "code",
      "metadata": {
        "id": "5GlRWS9g36rw"
      },
      "source": [
        "# Merge gdp and pop on date and country with fill and notice rows 2 and 3\n",
        "ctry_date = pd.merge_ordered(gdp, pop, on=['date','country'],\n",
        "                             fill_method='ffill')\n",
        "\n",
        "# Print ctry_date\n",
        "print(ctry_date)"
      ],
      "execution_count": null,
      "outputs": []
    },
    {
      "cell_type": "markdown",
      "metadata": {
        "id": "gM1F4IEqCrml"
      },
      "source": [
        "2. Perform the same merge of gdp and pop, but join on country and date (reverse of step 1) with the fill feature, saving this as date_ctry."
      ]
    },
    {
      "cell_type": "code",
      "metadata": {
        "id": "FHoKHh74CwML"
      },
      "source": [
        "# Merge gdp and pop on country and date with fill\n",
        "date_ctry = pd.merge_ordered(gdp, pop, on=['country','date'],\n",
        "                             fill_method='ffill')\n",
        "\n",
        "# Print date_ctry\n",
        "print(date_ctry)"
      ],
      "execution_count": null,
      "outputs": []
    }
  ]
}