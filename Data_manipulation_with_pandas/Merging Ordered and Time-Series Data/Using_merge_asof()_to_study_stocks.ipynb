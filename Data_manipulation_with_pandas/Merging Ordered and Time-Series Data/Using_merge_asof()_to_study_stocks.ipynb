{
  "nbformat": 4,
  "nbformat_minor": 0,
  "metadata": {
    "colab": {
      "name": "Using_merge_asof()_to_study_stocks.ipynb",
      "provenance": [],
      "collapsed_sections": []
    },
    "kernelspec": {
      "name": "python3",
      "display_name": "Python 3"
    }
  },
  "cells": [
    {
      "cell_type": "markdown",
      "metadata": {
        "id": "JoxRVUf-_kR-"
      },
      "source": [
        "# **Using merge_asof() to study stocks**\n",
        "You have a feed of stock market prices that you record. You attempt to track the price every five minutes. Still, due to some network latency, the prices you record are roughly every 5 minutes. You pull your price logs for three banks, JP Morgan (JPM), Wells Fargo (WFC), and Bank Of America (BAC). You want to know how the price change of the two other banks compare to JP Morgan. Therefore, you will need to merge these three logs into one table. Afterward, you will use the pandas .diff() method to compute the price change over time. Finally, plot the price changes so you can review your analysis.\n",
        "\n",
        "The three log files have been loaded for you as tables named jpm, wells, and bac.\n",
        "\n",
        "# **Instructions**\n",
        "\n",
        "1. Use merge_asof() to merge jpm (left table) and wells together on the date_time column, where the rows with the nearest times are matched, and with suffixes=('', '_wells'). Save to jpm_wells.\n",
        "2. Use merge_asof() to merge jpm_wells (left table) and bac together on the date_time column, where the rows with the closest times are matched, and with suffixes=('_jpm', '_bac'). Save to jpm_wells_bac.\n",
        "3. Using price_diffs, create a line plot of the close price of JPM, WFC, and BAC only."
      ]
    },
    {
      "cell_type": "code",
      "metadata": {
        "id": "5GlRWS9g36rw"
      },
      "source": [
        "# Use merge_asof() to merge jpm and wells\n",
        "jpm_wells = pd.merge_asof(jpm, wells, on='date_time',suffixes=('', '_wells'),direction='nearest')\n",
        "\n",
        "\n",
        "# Use merge_asof() to merge jpm_wells and bac\n",
        "jpm_wells_bac = pd.merge_asof(jpm_wells, bac, on='date_time',suffixes=('_jpm', '_bac'),direction='nearest')\n",
        "\n",
        "\n",
        "# Compute price diff\n",
        "price_diffs = jpm_wells_bac.diff()\n",
        "\n",
        "# Plot the price diff of the close of jpm, wells and bac only\n",
        "price_diffs.plot(y= ['close_jpm' , 'close_wells' ,'close_bac'],kind='line')\n",
        "plt.show()"
      ],
      "execution_count": null,
      "outputs": []
    }
  ]
}