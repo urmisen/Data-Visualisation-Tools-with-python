{
  "nbformat": 4,
  "nbformat_minor": 0,
  "metadata": {
    "colab": {
      "name": "Subsetting_rows_with_query().ipynb",
      "provenance": [],
      "collapsed_sections": []
    },
    "kernelspec": {
      "name": "python3",
      "display_name": "Python 3"
    }
  },
  "cells": [
    {
      "cell_type": "markdown",
      "metadata": {
        "id": "JoxRVUf-_kR-"
      },
      "source": [
        "# **Subsetting rows with .query()**\n",
        "In this exercise, you will revisit GDP and population data for Australia and Sweden from the World Bank and expand on it using the .query() method. You'll merge the two tables and compute the GDP per capita. Afterwards, you'll use the .query() method to sub-select the rows and create a plot. Recall that you will need to merge on multiple columns in the proper order.\n",
        "\n",
        "The tables gdp and pop have been loaded for you.\n",
        "\n",
        "# **Instructions**\n",
        "\n",
        "1. Use merge_ordered() on gdp and pop on columns country and date with the fill feature, save to gdp_pop and print."
      ]
    },
    {
      "cell_type": "code",
      "metadata": {
        "id": "5GlRWS9g36rw"
      },
      "source": [
        "# Merge gdp and pop on date and country with fill\n",
        "gdp_pop = pd.merge_ordered(gdp,pop,on=['country','date'],fill_method='ffill')"
      ],
      "execution_count": null,
      "outputs": []
    },
    {
      "cell_type": "markdown",
      "metadata": {
        "id": "09gD5b3PXn2-"
      },
      "source": [
        "2. Add a column named gdp_per_capita to gdp_pop that divides gdp by pop."
      ]
    },
    {
      "cell_type": "code",
      "metadata": {
        "id": "CvR_xvezaDRV"
      },
      "source": [
        "# Add a column named gdp_per_capita to gdp_pop that divides the gdp by pop\n",
        "gdp_pop['gdp_per_capita']=gdp_pop['gdp']/gdp_pop['pop']"
      ],
      "execution_count": null,
      "outputs": []
    },
    {
      "cell_type": "markdown",
      "metadata": {
        "id": "yuw7O8Q2aHfv"
      },
      "source": [
        "3. Pivot gdp_pop so values='gdp_per_capita', index='date', and columns='country', save as gdp_pivot."
      ]
    },
    {
      "cell_type": "code",
      "metadata": {
        "id": "vFqfyNdRaf7P"
      },
      "source": [
        "# Pivot table of gdp_per_capita, where index is date and columns is country\n",
        "gdp_pivot = gdp_pop.pivot_table('gdp_per_capita', index='date', columns='country')"
      ],
      "execution_count": null,
      "outputs": []
    },
    {
      "cell_type": "markdown",
      "metadata": {
        "id": "2YTTwDRIaibq"
      },
      "source": [
        "4. Use .query() to select rows from gdp_pivot where date is greater than equal to 1991-01-01\". Save as recent_gdp_pop."
      ]
    },
    {
      "cell_type": "code",
      "metadata": {
        "id": "2Z2XRwGXcHbZ"
      },
      "source": [
        "# Select dates equal to or greater than 1991-01-01\n",
        "recent_gdp_pop = gdp_pivot.query('date >= \"1991-01-01\"')\n",
        "\n",
        "# Plot recent_gdp_pop\n",
        "recent_gdp_pop.plot(rot=90)\n",
        "plt.show()"
      ],
      "execution_count": null,
      "outputs": []
    }
  ]
}