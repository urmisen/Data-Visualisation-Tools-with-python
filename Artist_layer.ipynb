{
 "cells": [
  {
   "cell_type": "code",
   "execution_count": 4,
   "metadata": {},
   "outputs": [],
   "source": [
    "from matplotlib.backends.backend_agg import FigureCanvasAgg as FigureCanvas #import FigureCanvas where agg=Anti Green Geometry\n",
    "from matplotlib.figure import Figure #import Figure artist\n",
    "fig=Figure()\n",
    "canvas= FigureCanvas(fig)\n",
    "\n",
    "import numpy as np\n",
    "x=np.random.randn(10000)\n",
    "\n",
    "ax=fig.add_subplot(111) # create an axes artist\n",
    "ax.hist(x,100) #generate a histogram where 100 means to create 100 beens\n",
    "\n",
    "ax.set_title('Normal distribution with $\\mu=0, \\sigma=1$')\n",
    "fig.savefig('matplotlib_histogram.png')\n"
   ]
  },
  {
   "cell_type": "code",
   "execution_count": null,
   "metadata": {},
   "outputs": [],
   "source": []
  }
 ],
 "metadata": {
  "kernelspec": {
   "display_name": "Python 3",
   "language": "python",
   "name": "python3"
  },
  "language_info": {
   "codemirror_mode": {
    "name": "ipython",
    "version": 3
   },
   "file_extension": ".py",
   "mimetype": "text/x-python",
   "name": "python",
   "nbconvert_exporter": "python",
   "pygments_lexer": "ipython3",
   "version": "3.7.4"
  }
 },
 "nbformat": 4,
 "nbformat_minor": 2
}
